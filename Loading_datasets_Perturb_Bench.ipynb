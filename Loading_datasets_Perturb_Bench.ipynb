{
 "cells": [
  {
   "cell_type": "code",
   "execution_count": 1,
   "id": "8923854b-c52b-4bbe-9aec-941acbeabfd5",
   "metadata": {},
   "outputs": [
    {
     "name": "stderr",
     "output_type": "stream",
     "text": [
      "OMP: Info #276: omp_set_nested routine deprecated, please use omp_set_max_active_levels instead.\n"
     ]
    }
   ],
   "source": [
    "import pertpy as pt\n",
    "import scanpy as sc"
   ]
  },
  {
   "cell_type": "markdown",
   "id": "c326f045-08de-4cae-81ea-f630a739a43f",
   "metadata": {},
   "source": [
    "The 3 suggested datasets from the Hitchhickers guide can be called from pertpy package, but feel free to explore more datasets at some point more pertpy datasets"
   ]
  },
  {
   "cell_type": "code",
   "execution_count": null,
   "id": "c3097d52-2c81-4959-8254-e6314551410b",
   "metadata": {},
   "outputs": [],
   "source": [
    "# COVID-19 dataset, https://pertpy.readthedocs.io/en/latest/usage/data/pertpy.data.stephenson_2021_subsampled.html#pertpy.data.stephenson_2021_subsampled\n",
    "adata = pt.dt.stephenson_2021_subsampled()\n",
    "adata"
   ]
  },
  {
   "cell_type": "code",
   "execution_count": null,
   "id": "aee9158d-d4f1-4253-8fcb-d52513980b0b",
   "metadata": {},
   "outputs": [],
   "source": [
    "# TBNC dataset with chemotherapy and anti-PDL1 dataset, https://pertpy.readthedocs.io/en/latest/usage/data/pertpy.data.zhang_2021.html#pertpy.data.zhang_2021\n",
    "adata = pt.dt.zhang_2021()\n",
    "adata"
   ]
  },
  {
   "cell_type": "code",
   "execution_count": null,
   "id": "6eb3dbe9-5b8d-479d-a25c-ca7b7a8bfba1",
   "metadata": {},
   "outputs": [],
   "source": [
    "# This is a large dataset, you can downsample it using the following function:\n",
    "import numpy as np\n",
    "\n",
    "# Set the target number of cells\n",
    "target_cells = 6300 # this is arbitrary, change it accordingly\n",
    "\n",
    "# Calculate the proportion to sample\n",
    "sample_fraction = target_cells / adata.n_obs\n",
    "\n",
    "# Perform downsampling\n",
    "adata_downsampled = adata[np.random.choice(adata.obs_names, size=target_cells, replace=False)]\n",
    "\n",
    "# Optionally, verify distribution across conditions\n",
    "print(adata_downsampled.obs['Status'].value_counts())"
   ]
  },
  {
   "cell_type": "code",
   "execution_count": null,
   "id": "7175b700-0933-40b1-9831-052cdc58248f",
   "metadata": {},
   "outputs": [],
   "source": [
    "# ECCITE-seq dataset (RNA, protein, 111 gRNAs for CRISPR interventions)\n",
    "import muon as mu\n",
    "import pertpy as pt\n",
    "import scanpy as sc\n",
    "\n",
    "mdata = pt.dt.papalexi_2021()\n",
    "\n",
    "# Check the MixScape script from pertpy for more details..."
   ]
  }
 ],
 "metadata": {
  "kernelspec": {
   "display_name": "Python 3 (ipykernel)",
   "language": "python",
   "name": "python3"
  },
  "language_info": {
   "codemirror_mode": {
    "name": "ipython",
    "version": 3
   },
   "file_extension": ".py",
   "mimetype": "text/x-python",
   "name": "python",
   "nbconvert_exporter": "python",
   "pygments_lexer": "ipython3",
   "version": "3.12.2"
  }
 },
 "nbformat": 4,
 "nbformat_minor": 5
}
