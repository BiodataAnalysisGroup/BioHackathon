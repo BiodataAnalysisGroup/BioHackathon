{
 "cells": [
  {
   "cell_type": "code",
   "execution_count": 1,
   "id": "6323b4c4",
   "metadata": {},
   "outputs": [],
   "source": [
    "import os\n",
    "import numpy as np\n",
    "import pandas as pd\n",
    "import matplotlib.pyplot as plt\n",
    "import scanpy as sc\n",
    "import torch\n",
    "\n",
    "sc.settings.verbosity = 0"
   ]
  },
  {
   "cell_type": "code",
   "execution_count": 2,
   "id": "ffae2228",
   "metadata": {},
   "outputs": [],
   "source": [
    "import GenKI as gk\n",
    "from GenKI.preprocesing import build_adata\n",
    "from GenKI.dataLoader import DataLoader\n",
    "from GenKI.train import VGAE_trainer\n",
    "from GenKI import utils\n",
    "\n",
    "%load_ext autoreload\n",
    "%autoreload 2"
   ]
  },
  {
   "cell_type": "code",
   "execution_count": 3,
   "id": "2b15fb16",
   "metadata": {},
   "outputs": [
    {
     "name": "stdout",
     "output_type": "stream",
     "text": [
      "load counts from ../data/adata.h5ad\n"
     ]
    }
   ],
   "source": [
    "# subset data as an example\n",
    "\n",
    "adata = build_adata(\"../data/adata.h5ad\", scale_data=True)\n",
    "adata\n",
    "target_cells = 6800\n",
    "adata.n_obs/target_cells\n",
    "adata_1 = adata[np.random.choice(adata.obs_names, size=target_cells, replace=True)]\n"
   ]
  },
  {
   "cell_type": "code",
   "execution_count": 4,
   "id": "1e37d540",
   "metadata": {
    "scrolled": true
   },
   "outputs": [
    {
     "name": "stdout",
     "output_type": "stream",
     "text": [
      "use all the cells (6800) in adata\n",
      "build GRN\n"
     ]
    },
    {
     "name": "stderr",
     "output_type": "stream",
     "text": [
      "2024-11-08 09:19:21,428\tINFO worker.py:1816 -- Started a local Ray instance.\n"
     ]
    },
    {
     "name": "stdout",
     "output_type": "stream",
     "text": [
      "ray init, using 8 CPUs\n"
     ]
    },
    {
     "ename": "OutOfMemoryError",
     "evalue": "Task was killed due to the node running low on memory.\nMemory on the node (IP: 192.168.149.71, ID: 27213e26c57aaaf0c660834942260c20191b1388746f89b7ded5a91e) where the task (task ID: 32889d5baaef152b21d34d60398f4f43eec9347501000000, name=pc_net_parallel, pid=11814, memory used=0.12GB) was running was 5.38GB / 5.65GB (0.952387), which exceeds the memory usage threshold of 0.95. Ray killed this worker (ID: a7fdad37598c34cd203fe0d3f781f151c1aebbfde821b8b6342b4b8e) because it was the most recently scheduled task; to see more information about memory usage on this node, use `ray logs raylet.out -ip 192.168.149.71`. To see the logs of the worker, use `ray logs worker-a7fdad37598c34cd203fe0d3f781f151c1aebbfde821b8b6342b4b8e*out -ip 192.168.149.71. Top 10 memory users:\nPID\tMEM(GB)\tCOMMAND\n11543\t3.09\t/home/zero/miniforge3/bin/python3.12 -m ipykernel_launcher -f /home/zero/.local/share/jupyter/runtim...\n2065\t0.32\t/usr/lib/kf6/baloo_file_extractor\n11814\t0.12\tray::pc_net_parallel\n11615\t0.11\t/home/zero/miniforge3/lib/python3.12/site-packages/ray/core/src/ray/gcs/gcs_server --log_dir=/tmp/ra...\n11754\t0.10\t/home/zero/miniforge3/bin/python3.12 -u /home/zero/miniforge3/lib/python3.12/site-packages/ray/_priv...\n11674\t0.08\t/home/zero/miniforge3/bin/python3.12 -u /home/zero/miniforge3/lib/python3.12/site-packages/ray/autos...\n11726\t0.07\t/home/zero/miniforge3/lib/python3.12/site-packages/ray/core/src/ray/raylet/raylet --raylet_socket_na...\n11675\t0.06\t/home/zero/miniforge3/bin/python3.12 /home/zero/miniforge3/lib/python3.12/site-packages/ray/dashboar...\n11497\t0.06\t/opt/brave-bin/brave --type=renderer --string-annotations --crashpad-handler-pid=2218 --enable-crash...\n11792\t0.05\t/home/zero/miniforge3/bin/python3.12 -u /home/zero/miniforge3/lib/python3.12/site-packages/ray/dashb...\nRefer to the documentation on how to address the out of memory issue: https://docs.ray.io/en/latest/ray-core/scheduling/ray-oom-prevention.html. Consider provisioning more memory on this node or reducing task parallelism by requesting more CPUs per task. To adjust the kill threshold, set the environment variable `RAY_memory_usage_threshold` when starting Ray. To disable worker killing, set the environment variable `RAY_memory_monitor_refresh_ms` to zero.",
     "output_type": "error",
     "traceback": [
      "\u001b[0;31m---------------------------------------------------------------------------\u001b[0m",
      "\u001b[0;31mOutOfMemoryError\u001b[0m                          Traceback (most recent call last)",
      "Cell \u001b[0;32mIn[4], line 3\u001b[0m\n\u001b[1;32m      1\u001b[0m \u001b[38;5;66;03m# load data\u001b[39;00m\n\u001b[0;32m----> 3\u001b[0m data_wrapper \u001b[38;5;241m=\u001b[39m \u001b[43mDataLoader\u001b[49m\u001b[43m(\u001b[49m\n\u001b[1;32m      4\u001b[0m \u001b[43m                \u001b[49m\u001b[43madata_1\u001b[49m\u001b[43m,\u001b[49m\u001b[43m \u001b[49m\u001b[38;5;66;43;03m# adata object\u001b[39;49;00m\n\u001b[1;32m      5\u001b[0m \u001b[43m                \u001b[49m\u001b[43mtarget_gene\u001b[49m\u001b[43m \u001b[49m\u001b[38;5;241;43m=\u001b[39;49m\u001b[43m \u001b[49m\u001b[43m[\u001b[49m\u001b[38;5;124;43m'\u001b[39;49m\u001b[38;5;124;43mLYAR\u001b[39;49m\u001b[38;5;124;43m'\u001b[39;49m\u001b[43m,\u001b[49m\u001b[43m \u001b[49m\u001b[38;5;124;43m'\u001b[39;49m\u001b[38;5;124;43mSSRP1\u001b[39;49m\u001b[38;5;124;43m'\u001b[39;49m\u001b[43m,\u001b[49m\u001b[43m \u001b[49m\u001b[38;5;124;43m'\u001b[39;49m\u001b[38;5;124;43mPTPN14\u001b[39;49m\u001b[38;5;124;43m'\u001b[39;49m\u001b[43m,\u001b[49m\u001b[43m \u001b[49m\u001b[38;5;124;43m'\u001b[39;49m\u001b[38;5;124;43mTP53\u001b[39;49m\u001b[38;5;124;43m'\u001b[39;49m\u001b[43m,\u001b[49m\u001b[43m \u001b[49m\u001b[38;5;124;43m'\u001b[39;49m\u001b[38;5;124;43mYY1\u001b[39;49m\u001b[38;5;124;43m'\u001b[39;49m\u001b[43m]\u001b[49m\u001b[43m,\u001b[49m\u001b[43m \u001b[49m\u001b[38;5;66;43;03m# KO gene name\u001b[39;49;00m\n\u001b[1;32m      6\u001b[0m \u001b[43m                \u001b[49m\u001b[43mtarget_cell\u001b[49m\u001b[43m \u001b[49m\u001b[38;5;241;43m=\u001b[39;49m\u001b[43m \u001b[49m\u001b[38;5;28;43;01mNone\u001b[39;49;00m\u001b[43m,\u001b[49m\u001b[43m \u001b[49m\u001b[38;5;66;43;03m# obsname for cell type, if none use all\u001b[39;49;00m\n\u001b[1;32m      7\u001b[0m \u001b[43m                \u001b[49m\u001b[43mobs_label\u001b[49m\u001b[43m \u001b[49m\u001b[38;5;241;43m=\u001b[39;49m\u001b[43m \u001b[49m\u001b[38;5;124;43m\"\u001b[39;49m\u001b[38;5;124;43mident\u001b[39;49m\u001b[38;5;124;43m\"\u001b[39;49m\u001b[43m,\u001b[49m\u001b[43m \u001b[49m\u001b[38;5;66;43;03m# colname for genes\u001b[39;49;00m\n\u001b[1;32m      8\u001b[0m \u001b[43m                \u001b[49m\u001b[43mGRN_file_dir\u001b[49m\u001b[43m \u001b[49m\u001b[38;5;241;43m=\u001b[39;49m\u001b[43m \u001b[49m\u001b[38;5;124;43m\"\u001b[39;49m\u001b[38;5;124;43mGRNs\u001b[39;49m\u001b[38;5;124;43m\"\u001b[39;49m\u001b[43m,\u001b[49m\u001b[43m \u001b[49m\u001b[38;5;66;43;03m# folder name for GRNs\u001b[39;49;00m\n\u001b[1;32m      9\u001b[0m \u001b[43m                \u001b[49m\u001b[43mrebuild_GRN\u001b[49m\u001b[43m \u001b[49m\u001b[38;5;241;43m=\u001b[39;49m\u001b[43m \u001b[49m\u001b[38;5;28;43;01mTrue\u001b[39;49;00m\u001b[43m,\u001b[49m\u001b[43m \u001b[49m\u001b[38;5;66;43;03m# whether build GRN by pcNet\u001b[39;49;00m\n\u001b[1;32m     10\u001b[0m \u001b[43m                \u001b[49m\u001b[43mpcNet_name\u001b[49m\u001b[43m \u001b[49m\u001b[38;5;241;43m=\u001b[39;49m\u001b[43m \u001b[49m\u001b[38;5;124;43m\"\u001b[39;49m\u001b[38;5;124;43mgrNet\u001b[39;49m\u001b[38;5;124;43m\"\u001b[39;49m\u001b[43m,\u001b[49m\u001b[43m \u001b[49m\u001b[38;5;66;43;03m# GRN file name\u001b[39;49;00m\n\u001b[1;32m     11\u001b[0m \u001b[43m                \u001b[49m\u001b[43mverbose\u001b[49m\u001b[43m \u001b[49m\u001b[38;5;241;43m=\u001b[39;49m\u001b[43m \u001b[49m\u001b[38;5;28;43;01mTrue\u001b[39;49;00m\u001b[43m,\u001b[49m\u001b[43m \u001b[49m\u001b[38;5;66;43;03m# whether verbose\u001b[39;49;00m\n\u001b[1;32m     12\u001b[0m \u001b[43m                \u001b[49m\u001b[43mn_cpus\u001b[49m\u001b[43m \u001b[49m\u001b[38;5;241;43m=\u001b[39;49m\u001b[43m \u001b[49m\u001b[38;5;241;43m8\u001b[39;49m\u001b[43m,\u001b[49m\u001b[43m \u001b[49m\u001b[38;5;66;43;03m# multiprocessing\u001b[39;49;00m\n\u001b[1;32m     13\u001b[0m \u001b[43m                \u001b[49m\u001b[43m)\u001b[49m\n\u001b[1;32m     15\u001b[0m data_wt \u001b[38;5;241m=\u001b[39m data_wrapper\u001b[38;5;241m.\u001b[39mload_data()\n\u001b[1;32m     16\u001b[0m data_ko \u001b[38;5;241m=\u001b[39m data_wrapper\u001b[38;5;241m.\u001b[39mload_kodata()\n",
      "File \u001b[0;32m~/miniforge3/lib/python3.12/site-packages/GenKI/dataLoader.py:103\u001b[0m, in \u001b[0;36mDataLoader.__init__\u001b[0;34m(self, adata, target_gene, target_cell, obs_label, GRN_file_dir, rebuild_GRN, pcNet_name, cutoff, verbose, **kwargs)\u001b[0m\n\u001b[1;32m     92\u001b[0m \u001b[38;5;28;01mdef\u001b[39;00m \u001b[38;5;21m__init__\u001b[39m(\u001b[38;5;28mself\u001b[39m, \n\u001b[1;32m     93\u001b[0m         adata: anndata\u001b[38;5;241m.\u001b[39mAnnData, \n\u001b[1;32m     94\u001b[0m         target_gene: \u001b[38;5;28mlist\u001b[39m[\u001b[38;5;28mstr\u001b[39m], \n\u001b[0;32m   (...)\u001b[0m\n\u001b[1;32m    101\u001b[0m         verbose: \u001b[38;5;28mbool\u001b[39m \u001b[38;5;241m=\u001b[39m \u001b[38;5;28;01mFalse\u001b[39;00m,\n\u001b[1;32m    102\u001b[0m         \u001b[38;5;241m*\u001b[39m\u001b[38;5;241m*\u001b[39mkwargs):\n\u001b[0;32m--> 103\u001b[0m     \u001b[38;5;28;43msuper\u001b[39;49m\u001b[43m(\u001b[49m\u001b[43m)\u001b[49m\u001b[38;5;241;43m.\u001b[39;49m\u001b[38;5;21;43m__init__\u001b[39;49m\u001b[43m(\u001b[49m\u001b[43madata\u001b[49m\u001b[43m,\u001b[49m\u001b[43m \u001b[49m\n\u001b[1;32m    104\u001b[0m \u001b[43m                     \u001b[49m\u001b[43mtarget_gene\u001b[49m\u001b[43m,\u001b[49m\u001b[43m \u001b[49m\n\u001b[1;32m    105\u001b[0m \u001b[43m                     \u001b[49m\u001b[43mtarget_cell\u001b[49m\u001b[43m,\u001b[49m\u001b[43m \u001b[49m\n\u001b[1;32m    106\u001b[0m \u001b[43m                     \u001b[49m\u001b[43mobs_label\u001b[49m\u001b[43m,\u001b[49m\u001b[43m \u001b[49m\n\u001b[1;32m    107\u001b[0m \u001b[43m                     \u001b[49m\u001b[43mGRN_file_dir\u001b[49m\u001b[43m,\u001b[49m\u001b[43m \u001b[49m\n\u001b[1;32m    108\u001b[0m \u001b[43m                     \u001b[49m\u001b[43mrebuild_GRN\u001b[49m\u001b[43m,\u001b[49m\u001b[43m \u001b[49m\n\u001b[1;32m    109\u001b[0m \u001b[43m                     \u001b[49m\u001b[43mpcNet_name\u001b[49m\u001b[43m,\u001b[49m\u001b[43m \u001b[49m\n\u001b[1;32m    110\u001b[0m \u001b[43m                     \u001b[49m\u001b[43mverbose\u001b[49m\u001b[43m,\u001b[49m\u001b[43m \u001b[49m\n\u001b[1;32m    111\u001b[0m \u001b[43m                     \u001b[49m\u001b[38;5;241;43m*\u001b[39;49m\u001b[38;5;241;43m*\u001b[39;49m\u001b[43mkwargs\u001b[49m\u001b[43m)\u001b[49m\n\u001b[1;32m    112\u001b[0m     \u001b[38;5;28mself\u001b[39m\u001b[38;5;241m.\u001b[39mverbose \u001b[38;5;241m=\u001b[39m verbose\n\u001b[1;32m    113\u001b[0m     \u001b[38;5;28mself\u001b[39m\u001b[38;5;241m.\u001b[39mcutoff \u001b[38;5;241m=\u001b[39m cutoff\n",
      "File \u001b[0;32m~/miniforge3/lib/python3.12/site-packages/GenKI/dataLoader.py:47\u001b[0m, in \u001b[0;36mscBase.__init__\u001b[0;34m(self, adata, target_gene, target_cell, obs_label, GRN_file_dir, rebuild_GRN, pcNet_name, verbose, **kwargs)\u001b[0m\n\u001b[1;32m     45\u001b[0m \u001b[38;5;28;01mif\u001b[39;00m verbose:\n\u001b[1;32m     46\u001b[0m     \u001b[38;5;28mprint\u001b[39m(\u001b[38;5;124m\"\u001b[39m\u001b[38;5;124mbuild GRN\u001b[39m\u001b[38;5;124m\"\u001b[39m)\n\u001b[0;32m---> 47\u001b[0m \u001b[38;5;28mself\u001b[39m\u001b[38;5;241m.\u001b[39m_net \u001b[38;5;241m=\u001b[39m \u001b[43mmake_pcNet\u001b[49m\u001b[43m(\u001b[49m\u001b[43madata\u001b[49m\u001b[38;5;241;43m.\u001b[39;49m\u001b[43mlayers\u001b[49m\u001b[43m[\u001b[49m\u001b[38;5;124;43m\"\u001b[39;49m\u001b[38;5;124;43mnorm\u001b[39;49m\u001b[38;5;124;43m\"\u001b[39;49m\u001b[43m]\u001b[49m\u001b[43m,\u001b[49m\u001b[43m \u001b[49m\u001b[43mnComp\u001b[49m\u001b[43m \u001b[49m\u001b[38;5;241;43m=\u001b[39;49m\u001b[43m \u001b[49m\u001b[38;5;241;43m5\u001b[39;49m\u001b[43m,\u001b[49m\u001b[43m \u001b[49m\u001b[43mas_sparse\u001b[49m\u001b[43m \u001b[49m\u001b[38;5;241;43m=\u001b[39;49m\u001b[43m \u001b[49m\u001b[38;5;28;43;01mTrue\u001b[39;49;00m\u001b[43m,\u001b[49m\u001b[43m \u001b[49m\u001b[43mtimeit\u001b[49m\u001b[43m \u001b[49m\u001b[38;5;241;43m=\u001b[39;49m\u001b[43m \u001b[49m\u001b[43mverbose\u001b[49m\u001b[43m,\u001b[49m\u001b[43m \u001b[49m\u001b[38;5;241;43m*\u001b[39;49m\u001b[38;5;241;43m*\u001b[39;49m\u001b[43mkwargs\u001b[49m\u001b[43m)\u001b[49m           \n\u001b[1;32m     48\u001b[0m os\u001b[38;5;241m.\u001b[39mmakedirs(GRN_file_dir, exist_ok \u001b[38;5;241m=\u001b[39m \u001b[38;5;28;01mTrue\u001b[39;00m) \u001b[38;5;66;03m# create dir \u001b[39;00m\n\u001b[1;32m     49\u001b[0m scipy\u001b[38;5;241m.\u001b[39msparse\u001b[38;5;241m.\u001b[39msave_npz(pcNet_path, \u001b[38;5;28mself\u001b[39m\u001b[38;5;241m.\u001b[39m_net) \u001b[38;5;66;03m# save GRN\u001b[39;00m\n",
      "File \u001b[0;32m~/miniforge3/lib/python3.12/site-packages/GenKI/pcNet.py:114\u001b[0m, in \u001b[0;36mmake_pcNet\u001b[0;34m(X, nComp, scale, symmetric, q, as_sparse, random_state, n_cpus, timeit)\u001b[0m\n\u001b[1;32m    111\u001b[0m     \u001b[38;5;66;03m# print(X_ray)\u001b[39;00m\n\u001b[1;32m    112\u001b[0m     net \u001b[38;5;241m=\u001b[39m pc_net_parallel\u001b[38;5;241m.\u001b[39mremote(X_ray, nComp \u001b[38;5;241m=\u001b[39m nComp, scale \u001b[38;5;241m=\u001b[39m scale, symmetric \u001b[38;5;241m=\u001b[39m symmetric, q \u001b[38;5;241m=\u001b[39m q, \n\u001b[1;32m    113\u001b[0m                 as_sparse \u001b[38;5;241m=\u001b[39m as_sparse, random_state \u001b[38;5;241m=\u001b[39m random_state)\n\u001b[0;32m--> 114\u001b[0m     net \u001b[38;5;241m=\u001b[39m \u001b[43mray\u001b[49m\u001b[38;5;241;43m.\u001b[39;49m\u001b[43mget\u001b[49m\u001b[43m(\u001b[49m\u001b[43mnet\u001b[49m\u001b[43m)\u001b[49m\n\u001b[1;32m    115\u001b[0m \u001b[38;5;28;01melse\u001b[39;00m:\n\u001b[1;32m    116\u001b[0m     net \u001b[38;5;241m=\u001b[39m pc_net_single(X, nComp \u001b[38;5;241m=\u001b[39m nComp, scale \u001b[38;5;241m=\u001b[39m scale, symmetric \u001b[38;5;241m=\u001b[39m symmetric, q \u001b[38;5;241m=\u001b[39m q, \n\u001b[1;32m    117\u001b[0m         as_sparse \u001b[38;5;241m=\u001b[39m as_sparse, random_state \u001b[38;5;241m=\u001b[39m random_state)\n",
      "File \u001b[0;32m~/miniforge3/lib/python3.12/site-packages/ray/_private/auto_init_hook.py:21\u001b[0m, in \u001b[0;36mwrap_auto_init.<locals>.auto_init_wrapper\u001b[0;34m(*args, **kwargs)\u001b[0m\n\u001b[1;32m     18\u001b[0m \u001b[38;5;129m@wraps\u001b[39m(fn)\n\u001b[1;32m     19\u001b[0m \u001b[38;5;28;01mdef\u001b[39;00m \u001b[38;5;21mauto_init_wrapper\u001b[39m(\u001b[38;5;241m*\u001b[39margs, \u001b[38;5;241m*\u001b[39m\u001b[38;5;241m*\u001b[39mkwargs):\n\u001b[1;32m     20\u001b[0m     auto_init_ray()\n\u001b[0;32m---> 21\u001b[0m     \u001b[38;5;28;01mreturn\u001b[39;00m \u001b[43mfn\u001b[49m\u001b[43m(\u001b[49m\u001b[38;5;241;43m*\u001b[39;49m\u001b[43margs\u001b[49m\u001b[43m,\u001b[49m\u001b[43m \u001b[49m\u001b[38;5;241;43m*\u001b[39;49m\u001b[38;5;241;43m*\u001b[39;49m\u001b[43mkwargs\u001b[49m\u001b[43m)\u001b[49m\n",
      "File \u001b[0;32m~/miniforge3/lib/python3.12/site-packages/ray/_private/client_mode_hook.py:103\u001b[0m, in \u001b[0;36mclient_mode_hook.<locals>.wrapper\u001b[0;34m(*args, **kwargs)\u001b[0m\n\u001b[1;32m    101\u001b[0m     \u001b[38;5;28;01mif\u001b[39;00m func\u001b[38;5;241m.\u001b[39m\u001b[38;5;18m__name__\u001b[39m \u001b[38;5;241m!=\u001b[39m \u001b[38;5;124m\"\u001b[39m\u001b[38;5;124minit\u001b[39m\u001b[38;5;124m\"\u001b[39m \u001b[38;5;129;01mor\u001b[39;00m is_client_mode_enabled_by_default:\n\u001b[1;32m    102\u001b[0m         \u001b[38;5;28;01mreturn\u001b[39;00m \u001b[38;5;28mgetattr\u001b[39m(ray, func\u001b[38;5;241m.\u001b[39m\u001b[38;5;18m__name__\u001b[39m)(\u001b[38;5;241m*\u001b[39margs, \u001b[38;5;241m*\u001b[39m\u001b[38;5;241m*\u001b[39mkwargs)\n\u001b[0;32m--> 103\u001b[0m \u001b[38;5;28;01mreturn\u001b[39;00m \u001b[43mfunc\u001b[49m\u001b[43m(\u001b[49m\u001b[38;5;241;43m*\u001b[39;49m\u001b[43margs\u001b[49m\u001b[43m,\u001b[49m\u001b[43m \u001b[49m\u001b[38;5;241;43m*\u001b[39;49m\u001b[38;5;241;43m*\u001b[39;49m\u001b[43mkwargs\u001b[49m\u001b[43m)\u001b[49m\n",
      "File \u001b[0;32m~/miniforge3/lib/python3.12/site-packages/ray/_private/worker.py:2745\u001b[0m, in \u001b[0;36mget\u001b[0;34m(object_refs, timeout)\u001b[0m\n\u001b[1;32m   2739\u001b[0m     \u001b[38;5;28;01mraise\u001b[39;00m \u001b[38;5;167;01mValueError\u001b[39;00m(\n\u001b[1;32m   2740\u001b[0m         \u001b[38;5;124mf\u001b[39m\u001b[38;5;124m\"\u001b[39m\u001b[38;5;124mInvalid type of object refs, \u001b[39m\u001b[38;5;132;01m{\u001b[39;00m\u001b[38;5;28mtype\u001b[39m(object_refs)\u001b[38;5;132;01m}\u001b[39;00m\u001b[38;5;124m, is given. \u001b[39m\u001b[38;5;124m\"\u001b[39m\n\u001b[1;32m   2741\u001b[0m         \u001b[38;5;124m\"\u001b[39m\u001b[38;5;124m'\u001b[39m\u001b[38;5;124mobject_refs\u001b[39m\u001b[38;5;124m'\u001b[39m\u001b[38;5;124m must either be an ObjectRef or a list of ObjectRefs. \u001b[39m\u001b[38;5;124m\"\u001b[39m\n\u001b[1;32m   2742\u001b[0m     )\n\u001b[1;32m   2744\u001b[0m \u001b[38;5;66;03m# TODO(ujvl): Consider how to allow user to retrieve the ready objects.\u001b[39;00m\n\u001b[0;32m-> 2745\u001b[0m values, debugger_breakpoint \u001b[38;5;241m=\u001b[39m \u001b[43mworker\u001b[49m\u001b[38;5;241;43m.\u001b[39;49m\u001b[43mget_objects\u001b[49m\u001b[43m(\u001b[49m\u001b[43mobject_refs\u001b[49m\u001b[43m,\u001b[49m\u001b[43m \u001b[49m\u001b[43mtimeout\u001b[49m\u001b[38;5;241;43m=\u001b[39;49m\u001b[43mtimeout\u001b[49m\u001b[43m)\u001b[49m\n\u001b[1;32m   2746\u001b[0m \u001b[38;5;28;01mfor\u001b[39;00m i, value \u001b[38;5;129;01min\u001b[39;00m \u001b[38;5;28menumerate\u001b[39m(values):\n\u001b[1;32m   2747\u001b[0m     \u001b[38;5;28;01mif\u001b[39;00m \u001b[38;5;28misinstance\u001b[39m(value, RayError):\n",
      "File \u001b[0;32m~/miniforge3/lib/python3.12/site-packages/ray/_private/worker.py:903\u001b[0m, in \u001b[0;36mWorker.get_objects\u001b[0;34m(self, object_refs, timeout, return_exceptions)\u001b[0m\n\u001b[1;32m    901\u001b[0m                 \u001b[38;5;28;01mraise\u001b[39;00m value\u001b[38;5;241m.\u001b[39mas_instanceof_cause()\n\u001b[1;32m    902\u001b[0m             \u001b[38;5;28;01melse\u001b[39;00m:\n\u001b[0;32m--> 903\u001b[0m                 \u001b[38;5;28;01mraise\u001b[39;00m value\n\u001b[1;32m    905\u001b[0m \u001b[38;5;28;01mreturn\u001b[39;00m values, debugger_breakpoint\n",
      "\u001b[0;31mOutOfMemoryError\u001b[0m: Task was killed due to the node running low on memory.\nMemory on the node (IP: 192.168.149.71, ID: 27213e26c57aaaf0c660834942260c20191b1388746f89b7ded5a91e) where the task (task ID: 32889d5baaef152b21d34d60398f4f43eec9347501000000, name=pc_net_parallel, pid=11814, memory used=0.12GB) was running was 5.38GB / 5.65GB (0.952387), which exceeds the memory usage threshold of 0.95. Ray killed this worker (ID: a7fdad37598c34cd203fe0d3f781f151c1aebbfde821b8b6342b4b8e) because it was the most recently scheduled task; to see more information about memory usage on this node, use `ray logs raylet.out -ip 192.168.149.71`. To see the logs of the worker, use `ray logs worker-a7fdad37598c34cd203fe0d3f781f151c1aebbfde821b8b6342b4b8e*out -ip 192.168.149.71. Top 10 memory users:\nPID\tMEM(GB)\tCOMMAND\n11543\t3.09\t/home/zero/miniforge3/bin/python3.12 -m ipykernel_launcher -f /home/zero/.local/share/jupyter/runtim...\n2065\t0.32\t/usr/lib/kf6/baloo_file_extractor\n11814\t0.12\tray::pc_net_parallel\n11615\t0.11\t/home/zero/miniforge3/lib/python3.12/site-packages/ray/core/src/ray/gcs/gcs_server --log_dir=/tmp/ra...\n11754\t0.10\t/home/zero/miniforge3/bin/python3.12 -u /home/zero/miniforge3/lib/python3.12/site-packages/ray/_priv...\n11674\t0.08\t/home/zero/miniforge3/bin/python3.12 -u /home/zero/miniforge3/lib/python3.12/site-packages/ray/autos...\n11726\t0.07\t/home/zero/miniforge3/lib/python3.12/site-packages/ray/core/src/ray/raylet/raylet --raylet_socket_na...\n11675\t0.06\t/home/zero/miniforge3/bin/python3.12 /home/zero/miniforge3/lib/python3.12/site-packages/ray/dashboar...\n11497\t0.06\t/opt/brave-bin/brave --type=renderer --string-annotations --crashpad-handler-pid=2218 --enable-crash...\n11792\t0.05\t/home/zero/miniforge3/bin/python3.12 -u /home/zero/miniforge3/lib/python3.12/site-packages/ray/dashb...\nRefer to the documentation on how to address the out of memory issue: https://docs.ray.io/en/latest/ray-core/scheduling/ray-oom-prevention.html. Consider provisioning more memory on this node or reducing task parallelism by requesting more CPUs per task. To adjust the kill threshold, set the environment variable `RAY_memory_usage_threshold` when starting Ray. To disable worker killing, set the environment variable `RAY_memory_monitor_refresh_ms` to zero."
     ]
    },
    {
     "name": "stderr",
     "output_type": "stream",
     "text": [
      "\u001b[33m(raylet)\u001b[0m [2024-11-08 09:20:21,367 E 11726 11726] (raylet) node_manager.cc:3069: 8 Workers (tasks / actors) killed due to memory pressure (OOM), 0 Workers crashed due to other reasons at node (ID: 27213e26c57aaaf0c660834942260c20191b1388746f89b7ded5a91e, IP: 192.168.149.71) over the last time period. To see more information about the Workers killed on this node, use `ray logs raylet.out -ip 192.168.149.71`\n",
      "\u001b[33m(raylet)\u001b[0m \n",
      "\u001b[33m(raylet)\u001b[0m Refer to the documentation on how to address the out of memory issue: https://docs.ray.io/en/latest/ray-core/scheduling/ray-oom-prevention.html. Consider provisioning more memory on this node or reducing task parallelism by requesting more CPUs per task. To adjust the kill threshold, set the environment variable `RAY_memory_usage_threshold` when starting Ray. To disable worker killing, set the environment variable `RAY_memory_monitor_refresh_ms` to zero.\n"
     ]
    }
   ],
   "source": [
    "# load data\n",
    "\n",
    "data_wrapper = DataLoader(\n",
    "                adata_1, # adata object\n",
    "                target_gene = ['LYAR', 'SSRP1', 'PTPN14', 'TP53', 'YY1'], # KO gene name\n",
    "                target_cell = None, # obsname for cell type, if none use all\n",
    "                obs_label = \"ident\", # colname for genes\n",
    "                GRN_file_dir = \"GRNs\", # folder name for GRNs\n",
    "                rebuild_GRN = True, # whether build GRN by pcNet\n",
    "                pcNet_name = \"grNet\", # GRN file name\n",
    "                verbose = True, # whether verbose\n",
    "                n_cpus = 8, # multiprocessing\n",
    "                )\n",
    "\n",
    "data_wt = data_wrapper.load_data()\n",
    "data_ko = data_wrapper.load_kodata()"
   ]
  },
  {
   "cell_type": "code",
   "execution_count": null,
   "id": "7862c768",
   "metadata": {},
   "outputs": [],
   "source": [
    "# init trainer\n",
    "\n",
    "hyperparams = {\"epochs\": 100, \n",
    "               \"lr\": 7e-4, \n",
    "               \"beta\": 1e-4, \n",
    "               \"seed\": 8096}\n",
    "log_dir=None \n",
    "\n",
    "sensei = VGAE_trainer(data_wt, \n",
    "                     epochs=hyperparams[\"epochs\"], \n",
    "                     lr=hyperparams[\"lr\"], \n",
    "                     log_dir=log_dir, \n",
    "                     beta=hyperparams[\"beta\"],\n",
    "                     seed=hyperparams[\"seed\"],\n",
    "                     verbose=False,\n",
    "                     )"
   ]
  },
  {
   "cell_type": "code",
   "execution_count": null,
   "id": "31bfb6a0",
   "metadata": {
    "scrolled": true
   },
   "outputs": [],
   "source": [
    "# %%timeit\n",
    "\n",
    "sensei.train()"
   ]
  },
  {
   "cell_type": "code",
   "execution_count": null,
   "id": "e16a285e",
   "metadata": {},
   "outputs": [],
   "source": [
    "# save model\n",
    "\n",
    "sensei.save_model('adata_genki')"
   ]
  },
  {
   "cell_type": "code",
   "execution_count": null,
   "id": "e055e8f3",
   "metadata": {
    "scrolled": true
   },
   "outputs": [],
   "source": [
    "# get distance between wt and ko\n",
    "\n",
    "z_mu_wt, z_std_wt = sensei.get_latent_vars(data_wt)\n",
    "z_mu_ko, z_std_ko = sensei.get_latent_vars(data_ko)\n",
    "dis = gk.utils.get_distance(z_mu_ko, z_std_ko, z_mu_wt, z_std_wt, by=\"KL\")\n",
    "print(dis.shape)"
   ]
  },
  {
   "cell_type": "code",
   "execution_count": null,
   "id": "78e852b7",
   "metadata": {},
   "outputs": [],
   "source": [
    "# raw ranked gene list\n",
    "\n",
    "res_raw = utils.get_generank(data_wt, dis, rank=True)\n",
    "res_raw.head()"
   ]
  },
  {
   "cell_type": "code",
   "execution_count": null,
   "id": "9ddf3b86",
   "metadata": {},
   "outputs": [],
   "source": [
    "# if permutation test\n",
    "\n",
    "null = sensei.pmt(data_ko, n=100, by=\"KL\")\n",
    "res = utils.get_generank(data_wt, dis, null,)\n",
    "\n",
    "# save_significant_as = 'gene_list_example')\n",
    "res"
   ]
  }
 ],
 "metadata": {
  "kernelspec": {
   "display_name": "Python 3 (ipykernel)",
   "language": "python",
   "name": "python3"
  },
  "language_info": {
   "codemirror_mode": {
    "name": "ipython",
    "version": 3
   },
   "file_extension": ".py",
   "mimetype": "text/x-python",
   "name": "python",
   "nbconvert_exporter": "python",
   "pygments_lexer": "ipython3",
   "version": "3.12.7"
  }
 },
 "nbformat": 4,
 "nbformat_minor": 5
}
