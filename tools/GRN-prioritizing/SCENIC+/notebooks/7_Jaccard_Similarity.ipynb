{
 "cells": [
  {
   "cell_type": "markdown",
   "metadata": {},
   "source": [
    "## Get the Jaccard similarity between the perturbed genes (result from SCENIC+) and the \"ground truth\" (KnockTF database)"
   ]
  },
  {
   "cell_type": "code",
   "execution_count": 5,
   "metadata": {},
   "outputs": [],
   "source": [
    "import pandas as pd\n",
    "\n",
    "gene = \"TP53\"\n",
    "num = 50\n",
    "# File paths\n",
    "file1 = f\"SCENIC+_{gene}_top{num}.csv\"\n",
    "file2 = f\"KnockTF_{gene}_top{num}.csv\"\n",
    "\n",
    "# Read CSV files\n",
    "df1 = pd.read_csv(file1)\n",
    "df2 = pd.read_csv(file2)\n"
   ]
  },
  {
   "cell_type": "markdown",
   "metadata": {},
   "source": [
    "We need to adjust the column names later in the previous steps - LZ #TODO"
   ]
  },
  {
   "cell_type": "code",
   "execution_count": 14,
   "metadata": {},
   "outputs": [
    {
     "data": {
      "text/plain": [
       "{'AC008966.3',\n",
       " 'AC022126.1',\n",
       " 'AC026191.1',\n",
       " 'ADAMTS20',\n",
       " 'AL158152.1',\n",
       " 'AL158835.1',\n",
       " 'AL356056.2',\n",
       " 'ANKRA2',\n",
       " 'AP1AR',\n",
       " 'ARHGAP24',\n",
       " 'BX323043.1',\n",
       " 'C16orf96',\n",
       " 'C8orf37',\n",
       " 'CALD1',\n",
       " 'CBLL1',\n",
       " 'CHST15',\n",
       " 'DTWD2',\n",
       " 'ENO4',\n",
       " 'FAM156A',\n",
       " 'FAM210B',\n",
       " 'GBP2',\n",
       " 'GBP4',\n",
       " 'GRIN2C',\n",
       " 'HIRA',\n",
       " 'HIST1H2BE',\n",
       " 'LEMD2',\n",
       " 'LIN7A',\n",
       " 'LINC01414',\n",
       " 'LINC02615',\n",
       " 'MAP2K1',\n",
       " 'MSANTD2',\n",
       " 'MSN',\n",
       " 'MT-ATP8',\n",
       " 'MTFMT',\n",
       " 'NELFB',\n",
       " 'NELFE',\n",
       " 'POP7',\n",
       " 'PRDM5',\n",
       " 'RETREG3',\n",
       " 'RPS19',\n",
       " 'SGCG',\n",
       " 'SLC25A3',\n",
       " 'SYTL1',\n",
       " 'THOC5',\n",
       " 'TRIM35',\n",
       " 'XBP1',\n",
       " 'ZMPSTE24',\n",
       " 'ZNF512B',\n",
       " 'ZNF616',\n",
       " 'ZSCAN16'}"
      ]
     },
     "execution_count": 14,
     "metadata": {},
     "output_type": "execute_result"
    }
   ],
   "source": [
    "set(df1['gene'].values)"
   ]
  },
  {
   "cell_type": "code",
   "execution_count": 13,
   "metadata": {},
   "outputs": [
    {
     "data": {
      "text/plain": [
       "{'ACP5',\n",
       " 'ADAMTS16',\n",
       " 'AHNAK2',\n",
       " 'AMPH',\n",
       " 'C11orf21',\n",
       " 'C16orf92',\n",
       " 'C4orf45',\n",
       " 'C6orf47',\n",
       " 'CD163L1',\n",
       " 'CFH',\n",
       " 'DLL3',\n",
       " 'EGR3',\n",
       " 'EMB',\n",
       " 'EMP1',\n",
       " 'FBN2',\n",
       " 'FOSB',\n",
       " 'FXYD5',\n",
       " 'GBP1',\n",
       " 'GLDN',\n",
       " 'GPR61',\n",
       " 'GRAP',\n",
       " 'HVCN1',\n",
       " 'ICAM1',\n",
       " 'IGSF10',\n",
       " 'JPH4',\n",
       " 'KCNH2',\n",
       " 'KRT18',\n",
       " 'KRTAP17-1',\n",
       " 'LHFPL5',\n",
       " 'MAGEA2',\n",
       " 'MIR1282',\n",
       " 'MIR570',\n",
       " 'MMP19',\n",
       " 'NHS',\n",
       " 'NKD2',\n",
       " 'NXPH1',\n",
       " 'OCIAD2',\n",
       " 'PCDH20',\n",
       " 'PCDHGC4',\n",
       " 'PITX3',\n",
       " 'PLEK2',\n",
       " 'RNU86',\n",
       " 'SECTM1',\n",
       " 'SERPINI1',\n",
       " 'SLITRK3',\n",
       " 'SMTNL2',\n",
       " 'SNORA24',\n",
       " 'UNC5D',\n",
       " 'VCAM1',\n",
       " 'ZNF630'}"
      ]
     },
     "execution_count": 13,
     "metadata": {},
     "output_type": "execute_result"
    }
   ],
   "source": [
    "set(df2['Target'].values)"
   ]
  },
  {
   "cell_type": "code",
   "execution_count": 12,
   "metadata": {},
   "outputs": [
    {
     "name": "stdout",
     "output_type": "stream",
     "text": [
      "Jaccard Similarity: 0.0000\n"
     ]
    }
   ],
   "source": [
    "\n",
    "# Clean and extract gene sets\n",
    "genes1 = set(df1['gene'].values)\n",
    "genes2 = set(df2['Target'].values)\n",
    "\n",
    "# Compute Jaccard Similarity\n",
    "intersection = genes1.intersection(genes2)\n",
    "union = genes1.union(genes2)\n",
    "jaccard_similarity = len(intersection) / len(union)\n",
    "\n",
    "print(f'Jaccard Similarity: {jaccard_similarity:.4f}')\n"
   ]
  },
  {
   "cell_type": "code",
   "execution_count": null,
   "metadata": {},
   "outputs": [],
   "source": []
  }
 ],
 "metadata": {
  "kernelspec": {
   "display_name": "bioenv",
   "language": "python",
   "name": "python3"
  },
  "language_info": {
   "codemirror_mode": {
    "name": "ipython",
    "version": 3
   },
   "file_extension": ".py",
   "mimetype": "text/x-python",
   "name": "python",
   "nbconvert_exporter": "python",
   "pygments_lexer": "ipython3",
   "version": "3.12.7"
  }
 },
 "nbformat": 4,
 "nbformat_minor": 2
}
