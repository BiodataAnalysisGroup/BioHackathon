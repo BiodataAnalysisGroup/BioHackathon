{
 "cells": [
  {
   "cell_type": "markdown",
   "id": "a25fe874-687c-4843-87ca-5253efc17ebb",
   "metadata": {},
   "source": [
    "# Preprocessing the scRNA-seq data\n",
    "\n",
    "In this tutorial is based on the SCENIC+ tutorial:\n",
    "\n",
    "https://scenicplus.readthedocs.io/en/latest/tutorials.html\n",
    "\n",
    "with the adjustments made by Liya Zaygerman."
   ]
  },
  {
   "cell_type": "markdown",
   "id": "11702c47-2afc-4b6b-8824-823122a3df71",
   "metadata": {},
   "source": [
    "## Download data\n",
    "\n",
    "The data used for this tutorial is freely available, and can be downloaded from the [10x genomics website](https://www.10xgenomics.com/datasets/frozen-human-healthy-brain-tissue-3-k-1-standard-1-0-0)."
   ]
  },
  {
   "cell_type": "code",
   "execution_count": 37,
   "id": "80609ad9-2f09-44b7-88b0-0d5392f26a7c",
   "metadata": {},
   "outputs": [
    {
     "data": {
      "text/plain": [
       "'/Users/liya/Documents/Biohack24/SCENIC+'"
      ]
     },
     "execution_count": 37,
     "metadata": {},
     "output_type": "execute_result"
    }
   ],
   "source": [
    "import os\n",
    "# set the base directory\n",
    "BASE_DIR = '/Users/liya/Documents/Biohack24/SCENIC+' # change this to your base directory\n",
    "\n",
    "os.chdir(BASE_DIR)\n",
    "#check what the current working directory is\n",
    "os.getcwd()"
   ]
  },
  {
   "cell_type": "code",
   "execution_count": 4,
   "id": "d1828000-1ad0-4845-9e8b-29cb2d8fa830",
   "metadata": {},
   "outputs": [
    {
     "name": "stdout",
     "output_type": "stream",
     "text": [
      "--2024-11-07 17:39:51--  https://cf.10xgenomics.com/samples/cell-arc/2.0.0/human_brain_3k/human_brain_3k_filtered_feature_bc_matrix.tar.gz\n",
      "Resolving cf.10xgenomics.com (cf.10xgenomics.com)... 104.18.0.173, 104.18.1.173\n",
      "Connecting to cf.10xgenomics.com (cf.10xgenomics.com)|104.18.0.173|:443... connected.\n",
      "HTTP request sent, awaiting response... 200 OK\n",
      "Length: 170112442 (162M) [application/x-tar]\n",
      "Saving to: ‘data/filtered_feature_bc_matrix.tar.gz’\n",
      "\n",
      "data/filtered_featu 100%[===================>] 162.23M  2.36MB/s    in 68s     \n",
      "\n",
      "2024-11-07 17:41:01 (2.38 MB/s) - ‘data/filtered_feature_bc_matrix.tar.gz’ saved [170112442/170112442]\n",
      "\n"
     ]
    }
   ],
   "source": [
    "!mkdir -p data\n",
    "!wget -O data/filtered_feature_bc_matrix.tar.gz https://cf.10xgenomics.com/samples/cell-arc/2.0.0/human_brain_3k/human_brain_3k_filtered_feature_bc_matrix.tar.gz"
   ]
  },
  {
   "cell_type": "code",
   "execution_count": 5,
   "id": "2f559574-1fe0-483d-ac07-ebd03b528bac",
   "metadata": {},
   "outputs": [],
   "source": [
    "!cd data; tar -xzf filtered_feature_bc_matrix.tar.gz; cd .."
   ]
  },
  {
   "cell_type": "code",
   "execution_count": 6,
   "id": "a6369438-1d9e-4f8e-bbe4-cfa5548baa13",
   "metadata": {},
   "outputs": [
    {
     "name": "stdout",
     "output_type": "stream",
     "text": [
      "--2024-11-07 17:41:02--  https://raw.githubusercontent.com/aertslab/pycisTopic/polars/data/cell_data_human_cerebellum.tsv\n",
      "Resolving raw.githubusercontent.com (raw.githubusercontent.com)... 185.199.111.133, 185.199.110.133, 185.199.109.133, ...\n",
      "Connecting to raw.githubusercontent.com (raw.githubusercontent.com)|185.199.111.133|:443... connected.\n",
      "HTTP request sent, awaiting response... 200 OK\n",
      "Length: 309204 (302K) [text/plain]\n",
      "Saving to: ‘data/cell_data.tsv’\n",
      "\n",
      "data/cell_data.tsv  100%[===================>] 301.96K  --.-KB/s    in 0.05s   \n",
      "\n",
      "2024-11-07 17:41:02 (6.09 MB/s) - ‘data/cell_data.tsv’ saved [309204/309204]\n",
      "\n"
     ]
    }
   ],
   "source": [
    "!wget -O data/cell_data.tsv https://raw.githubusercontent.com/aertslab/pycisTopic/polars/data/cell_data_human_cerebellum.tsv"
   ]
  },
  {
   "cell_type": "markdown",
   "id": "29535482-38bd-43f1-ab7c-0d631b4010f4",
   "metadata": {},
   "source": [
    "## Preprocessing\n",
    "\n",
    "We will do some very basic preprocessing steps, for more information we refer the reader to the [Scanpy tutorials](https://scanpy.readthedocs.io/en/stable/tutorials.html)."
   ]
  },
  {
   "cell_type": "code",
   "execution_count": 7,
   "id": "4ebcad71-7b51-4eb0-8d20-46a2125ec507",
   "metadata": {},
   "outputs": [],
   "source": [
    "import scanpy as sc"
   ]
  },
  {
   "cell_type": "code",
   "execution_count": 8,
   "id": "3a43a2ad-e309-4edf-93a4-13b88821b4a0",
   "metadata": {},
   "outputs": [],
   "source": [
    "adata = sc.read_10x_mtx(\n",
    "    \"data/filtered_feature_bc_matrix/\",\n",
    "    var_names = \"gene_symbols\"\n",
    ")"
   ]
  },
  {
   "cell_type": "code",
   "execution_count": 9,
   "id": "2b37ee71-f533-468b-86d9-dde6e9aaf80e",
   "metadata": {},
   "outputs": [],
   "source": [
    "adata.var_names_make_unique()"
   ]
  },
  {
   "cell_type": "code",
   "execution_count": 10,
   "id": "2aa0c4d3-9e27-406c-b156-c314262a6a41",
   "metadata": {},
   "outputs": [
    {
     "data": {
      "text/plain": [
       "AnnData object with n_obs × n_vars = 3233 × 36601\n",
       "    var: 'gene_ids', 'feature_types'"
      ]
     },
     "execution_count": 10,
     "metadata": {},
     "output_type": "execute_result"
    }
   ],
   "source": [
    "adata"
   ]
  },
  {
   "cell_type": "markdown",
   "id": "267b92bb-02a4-4d53-85c6-caaf23318657",
   "metadata": {},
   "source": [
    "We have already annotated this dataset, this is beyond the scope of this tutorial. We will load this annotation here."
   ]
  },
  {
   "cell_type": "code",
   "execution_count": 11,
   "id": "82137ec7-b878-4b9e-9e64-2a2bec78229c",
   "metadata": {},
   "outputs": [
    {
     "data": {
      "text/html": [
       "<div>\n",
       "<style scoped>\n",
       "    .dataframe tbody tr th:only-of-type {\n",
       "        vertical-align: middle;\n",
       "    }\n",
       "\n",
       "    .dataframe tbody tr th {\n",
       "        vertical-align: top;\n",
       "    }\n",
       "\n",
       "    .dataframe thead th {\n",
       "        text-align: right;\n",
       "    }\n",
       "</style>\n",
       "<table border=\"1\" class=\"dataframe\">\n",
       "  <thead>\n",
       "    <tr style=\"text-align: right;\">\n",
       "      <th></th>\n",
       "      <th>VSN_cell_type</th>\n",
       "      <th>VSN_leiden_res0.3</th>\n",
       "      <th>VSN_leiden_res0.6</th>\n",
       "      <th>VSN_leiden_res0.9</th>\n",
       "      <th>VSN_leiden_res1.2</th>\n",
       "      <th>VSN_sample_id</th>\n",
       "      <th>Seurat_leiden_res0.6</th>\n",
       "      <th>Seurat_leiden_res1.2</th>\n",
       "      <th>Seurat_cell_type</th>\n",
       "    </tr>\n",
       "  </thead>\n",
       "  <tbody>\n",
       "    <tr>\n",
       "      <th>AAACAGCCATTATGCG-1-10x_multiome_brain</th>\n",
       "      <td>MOL_B</td>\n",
       "      <td>MOL_B (0)</td>\n",
       "      <td>MOL_B_1 (0)</td>\n",
       "      <td>MOL_B_1  (1)</td>\n",
       "      <td>MOL_B_3 (6)</td>\n",
       "      <td>10x_multiome_brain</td>\n",
       "      <td>NFOL (1)</td>\n",
       "      <td>MOL (1)</td>\n",
       "      <td>MOL</td>\n",
       "    </tr>\n",
       "    <tr>\n",
       "      <th>AAACCAACATAGACCC-1-10x_multiome_brain</th>\n",
       "      <td>MOL_B</td>\n",
       "      <td>MOL_B (0)</td>\n",
       "      <td>MOL_B_1 (0)</td>\n",
       "      <td>MOL_B_3 (5)</td>\n",
       "      <td>MOL_B_4 (4)</td>\n",
       "      <td>10x_multiome_brain</td>\n",
       "      <td>NFOL (1)</td>\n",
       "      <td>NFOL (3)</td>\n",
       "      <td>NFOL</td>\n",
       "    </tr>\n",
       "    <tr>\n",
       "      <th>AAACCGAAGATGCCTG-1-10x_multiome_brain</th>\n",
       "      <td>INH_VIP</td>\n",
       "      <td>INH_VIP (6)</td>\n",
       "      <td>INH_VIP (8)</td>\n",
       "      <td>INH_VIP (8)</td>\n",
       "      <td>INH_VIP (10)</td>\n",
       "      <td>10x_multiome_brain</td>\n",
       "      <td>INH_VIP (7)</td>\n",
       "      <td>INH_VIP (6)</td>\n",
       "      <td>INH_VIP</td>\n",
       "    </tr>\n",
       "    <tr>\n",
       "      <th>AAACCGAAGTTAGCTA-1-10x_multiome_brain</th>\n",
       "      <td>MOL_A</td>\n",
       "      <td>MOL_A (1)</td>\n",
       "      <td>MOL_A_2 (1)</td>\n",
       "      <td>MOL_A_1  (0)</td>\n",
       "      <td>MOL_A_2 (0)</td>\n",
       "      <td>10x_multiome_brain</td>\n",
       "      <td>NFOL (1)</td>\n",
       "      <td>NFOL (3)</td>\n",
       "      <td>NFOL</td>\n",
       "    </tr>\n",
       "    <tr>\n",
       "      <th>AAACCGCGTTAGCCAA-1-10x_multiome_brain</th>\n",
       "      <td>MGL</td>\n",
       "      <td>MGL (7)</td>\n",
       "      <td>MGL (10)</td>\n",
       "      <td>MGL (10)</td>\n",
       "      <td>MGL (12)</td>\n",
       "      <td>10x_multiome_brain</td>\n",
       "      <td>MGL (8)</td>\n",
       "      <td>MGL (9)</td>\n",
       "      <td>MGL</td>\n",
       "    </tr>\n",
       "    <tr>\n",
       "      <th>...</th>\n",
       "      <td>...</td>\n",
       "      <td>...</td>\n",
       "      <td>...</td>\n",
       "      <td>...</td>\n",
       "      <td>...</td>\n",
       "      <td>...</td>\n",
       "      <td>...</td>\n",
       "      <td>...</td>\n",
       "      <td>...</td>\n",
       "    </tr>\n",
       "    <tr>\n",
       "      <th>TTTGTGAAGGGTGAGT-1-10x_multiome_brain</th>\n",
       "      <td>INH_VIP</td>\n",
       "      <td>INH_VIP (6)</td>\n",
       "      <td>INH_VIP (8)</td>\n",
       "      <td>INH_VIP (8)</td>\n",
       "      <td>INH_VIP (10)</td>\n",
       "      <td>10x_multiome_brain</td>\n",
       "      <td>INH_SST (5)</td>\n",
       "      <td>INH_SST (8)</td>\n",
       "      <td>INH_SST</td>\n",
       "    </tr>\n",
       "    <tr>\n",
       "      <th>TTTGTGAAGTCAGGCC-1-10x_multiome_brain</th>\n",
       "      <td>AST_CER</td>\n",
       "      <td>AST_CER (2)</td>\n",
       "      <td>AST_CER (2)</td>\n",
       "      <td>AST_CER (2)</td>\n",
       "      <td>AST_CER_1 (7)</td>\n",
       "      <td>10x_multiome_brain</td>\n",
       "      <td>BG (2)</td>\n",
       "      <td>BG (2)</td>\n",
       "      <td>BG</td>\n",
       "    </tr>\n",
       "    <tr>\n",
       "      <th>TTTGTGGCATGCTTAG-1-10x_multiome_brain</th>\n",
       "      <td>MOL_B</td>\n",
       "      <td>MOL_B (0)</td>\n",
       "      <td>MOL_B_1 (0)</td>\n",
       "      <td>MOL_B_1  (1)</td>\n",
       "      <td>MOL_B_1 (1)</td>\n",
       "      <td>10x_multiome_brain</td>\n",
       "      <td>MOL (0)</td>\n",
       "      <td>MOL (1)</td>\n",
       "      <td>MOL</td>\n",
       "    </tr>\n",
       "    <tr>\n",
       "      <th>TTTGTTGGTGATCAGC-1-10x_multiome_brain</th>\n",
       "      <td>MOL_A</td>\n",
       "      <td>MOL_A (1)</td>\n",
       "      <td>MOL_A_2 (1)</td>\n",
       "      <td>MOL_A_1  (0)</td>\n",
       "      <td>MOL_A_1 (11)</td>\n",
       "      <td>10x_multiome_brain</td>\n",
       "      <td>NFOL (1)</td>\n",
       "      <td>NFOL (3)</td>\n",
       "      <td>NFOL</td>\n",
       "    </tr>\n",
       "    <tr>\n",
       "      <th>TTTGTTGGTGATTTGG-1-10x_multiome_brain</th>\n",
       "      <td>INH_SST</td>\n",
       "      <td>INH_SST (5)</td>\n",
       "      <td>INH_SST (7)</td>\n",
       "      <td>INH_SST (7)</td>\n",
       "      <td>INH_SST (9)</td>\n",
       "      <td>10x_multiome_brain</td>\n",
       "      <td>INH_SST (5)</td>\n",
       "      <td>INH_SST (8)</td>\n",
       "      <td>INH_SST</td>\n",
       "    </tr>\n",
       "  </tbody>\n",
       "</table>\n",
       "<p>2392 rows × 9 columns</p>\n",
       "</div>"
      ],
      "text/plain": [
       "                                      VSN_cell_type VSN_leiden_res0.3  \\\n",
       "AAACAGCCATTATGCG-1-10x_multiome_brain         MOL_B         MOL_B (0)   \n",
       "AAACCAACATAGACCC-1-10x_multiome_brain         MOL_B         MOL_B (0)   \n",
       "AAACCGAAGATGCCTG-1-10x_multiome_brain       INH_VIP       INH_VIP (6)   \n",
       "AAACCGAAGTTAGCTA-1-10x_multiome_brain         MOL_A         MOL_A (1)   \n",
       "AAACCGCGTTAGCCAA-1-10x_multiome_brain           MGL           MGL (7)   \n",
       "...                                             ...               ...   \n",
       "TTTGTGAAGGGTGAGT-1-10x_multiome_brain       INH_VIP       INH_VIP (6)   \n",
       "TTTGTGAAGTCAGGCC-1-10x_multiome_brain       AST_CER       AST_CER (2)   \n",
       "TTTGTGGCATGCTTAG-1-10x_multiome_brain         MOL_B         MOL_B (0)   \n",
       "TTTGTTGGTGATCAGC-1-10x_multiome_brain         MOL_A         MOL_A (1)   \n",
       "TTTGTTGGTGATTTGG-1-10x_multiome_brain       INH_SST       INH_SST (5)   \n",
       "\n",
       "                                      VSN_leiden_res0.6 VSN_leiden_res0.9  \\\n",
       "AAACAGCCATTATGCG-1-10x_multiome_brain       MOL_B_1 (0)      MOL_B_1  (1)   \n",
       "AAACCAACATAGACCC-1-10x_multiome_brain       MOL_B_1 (0)       MOL_B_3 (5)   \n",
       "AAACCGAAGATGCCTG-1-10x_multiome_brain       INH_VIP (8)       INH_VIP (8)   \n",
       "AAACCGAAGTTAGCTA-1-10x_multiome_brain       MOL_A_2 (1)      MOL_A_1  (0)   \n",
       "AAACCGCGTTAGCCAA-1-10x_multiome_brain          MGL (10)          MGL (10)   \n",
       "...                                                 ...               ...   \n",
       "TTTGTGAAGGGTGAGT-1-10x_multiome_brain       INH_VIP (8)       INH_VIP (8)   \n",
       "TTTGTGAAGTCAGGCC-1-10x_multiome_brain       AST_CER (2)       AST_CER (2)   \n",
       "TTTGTGGCATGCTTAG-1-10x_multiome_brain       MOL_B_1 (0)      MOL_B_1  (1)   \n",
       "TTTGTTGGTGATCAGC-1-10x_multiome_brain       MOL_A_2 (1)      MOL_A_1  (0)   \n",
       "TTTGTTGGTGATTTGG-1-10x_multiome_brain       INH_SST (7)       INH_SST (7)   \n",
       "\n",
       "                                      VSN_leiden_res1.2       VSN_sample_id  \\\n",
       "AAACAGCCATTATGCG-1-10x_multiome_brain       MOL_B_3 (6)  10x_multiome_brain   \n",
       "AAACCAACATAGACCC-1-10x_multiome_brain       MOL_B_4 (4)  10x_multiome_brain   \n",
       "AAACCGAAGATGCCTG-1-10x_multiome_brain      INH_VIP (10)  10x_multiome_brain   \n",
       "AAACCGAAGTTAGCTA-1-10x_multiome_brain       MOL_A_2 (0)  10x_multiome_brain   \n",
       "AAACCGCGTTAGCCAA-1-10x_multiome_brain          MGL (12)  10x_multiome_brain   \n",
       "...                                                 ...                 ...   \n",
       "TTTGTGAAGGGTGAGT-1-10x_multiome_brain      INH_VIP (10)  10x_multiome_brain   \n",
       "TTTGTGAAGTCAGGCC-1-10x_multiome_brain     AST_CER_1 (7)  10x_multiome_brain   \n",
       "TTTGTGGCATGCTTAG-1-10x_multiome_brain       MOL_B_1 (1)  10x_multiome_brain   \n",
       "TTTGTTGGTGATCAGC-1-10x_multiome_brain      MOL_A_1 (11)  10x_multiome_brain   \n",
       "TTTGTTGGTGATTTGG-1-10x_multiome_brain       INH_SST (9)  10x_multiome_brain   \n",
       "\n",
       "                                      Seurat_leiden_res0.6  \\\n",
       "AAACAGCCATTATGCG-1-10x_multiome_brain             NFOL (1)   \n",
       "AAACCAACATAGACCC-1-10x_multiome_brain             NFOL (1)   \n",
       "AAACCGAAGATGCCTG-1-10x_multiome_brain          INH_VIP (7)   \n",
       "AAACCGAAGTTAGCTA-1-10x_multiome_brain             NFOL (1)   \n",
       "AAACCGCGTTAGCCAA-1-10x_multiome_brain              MGL (8)   \n",
       "...                                                    ...   \n",
       "TTTGTGAAGGGTGAGT-1-10x_multiome_brain          INH_SST (5)   \n",
       "TTTGTGAAGTCAGGCC-1-10x_multiome_brain               BG (2)   \n",
       "TTTGTGGCATGCTTAG-1-10x_multiome_brain              MOL (0)   \n",
       "TTTGTTGGTGATCAGC-1-10x_multiome_brain             NFOL (1)   \n",
       "TTTGTTGGTGATTTGG-1-10x_multiome_brain          INH_SST (5)   \n",
       "\n",
       "                                      Seurat_leiden_res1.2 Seurat_cell_type  \n",
       "AAACAGCCATTATGCG-1-10x_multiome_brain              MOL (1)              MOL  \n",
       "AAACCAACATAGACCC-1-10x_multiome_brain             NFOL (3)             NFOL  \n",
       "AAACCGAAGATGCCTG-1-10x_multiome_brain          INH_VIP (6)          INH_VIP  \n",
       "AAACCGAAGTTAGCTA-1-10x_multiome_brain             NFOL (3)             NFOL  \n",
       "AAACCGCGTTAGCCAA-1-10x_multiome_brain              MGL (9)              MGL  \n",
       "...                                                    ...              ...  \n",
       "TTTGTGAAGGGTGAGT-1-10x_multiome_brain          INH_SST (8)          INH_SST  \n",
       "TTTGTGAAGTCAGGCC-1-10x_multiome_brain               BG (2)               BG  \n",
       "TTTGTGGCATGCTTAG-1-10x_multiome_brain              MOL (1)              MOL  \n",
       "TTTGTTGGTGATCAGC-1-10x_multiome_brain             NFOL (3)             NFOL  \n",
       "TTTGTTGGTGATTTGG-1-10x_multiome_brain          INH_SST (8)          INH_SST  \n",
       "\n",
       "[2392 rows x 9 columns]"
      ]
     },
     "execution_count": 11,
     "metadata": {},
     "output_type": "execute_result"
    }
   ],
   "source": [
    "import pandas as pd\n",
    "cell_data = pd.read_table(\"data/cell_data.tsv\", index_col = 0)\n",
    "cell_data"
   ]
  },
  {
   "cell_type": "markdown",
   "id": "8a80eeb6-321c-4aa6-9752-9b40bf7045ac",
   "metadata": {},
   "source": [
    "We modify the index of this cell type annotation dataframe so that the cell barcode names match with those in the AnnData object."
   ]
  },
  {
   "cell_type": "code",
   "execution_count": 12,
   "id": "fb42c55f-83ae-48f2-b7ef-cb325a74c538",
   "metadata": {},
   "outputs": [],
   "source": [
    "cell_data.index = [cb.rsplit(\"-\", 1)[0] for cb in cell_data.index]"
   ]
  },
  {
   "cell_type": "code",
   "execution_count": 13,
   "id": "9babb237-8441-40bc-8b29-ac992148a26c",
   "metadata": {},
   "outputs": [],
   "source": [
    "adata = adata[list(set(adata.obs_names) & set(cell_data.index))].copy()"
   ]
  },
  {
   "cell_type": "code",
   "execution_count": 14,
   "id": "2dc795da-37eb-40b0-94cb-af86514ec059",
   "metadata": {},
   "outputs": [],
   "source": [
    "adata.obs = cell_data.loc[adata.obs_names]"
   ]
  },
  {
   "cell_type": "code",
   "execution_count": 15,
   "id": "58092300-5f5e-48d2-88bd-d695344d785c",
   "metadata": {},
   "outputs": [],
   "source": [
    "adata.var[\"mt\"] = adata.var_names.str.startswith(\"MT-\")\n",
    "sc.pp.calculate_qc_metrics(\n",
    "    adata, qc_vars=[\"mt\"], percent_top=None, log1p=False, inplace=True\n",
    ")"
   ]
  },
  {
   "cell_type": "markdown",
   "id": "5d15a895-f920-4e6b-b474-d63b8ba8150d",
   "metadata": {},
   "source": [
    "### Data normalization\n",
    "\n",
    "It's important to save the **non normalized** and **non scaled** matrix in the raw slot!"
   ]
  },
  {
   "cell_type": "code",
   "execution_count": 16,
   "id": "166f682f-fa31-450e-971b-7d7fc4d2a723",
   "metadata": {},
   "outputs": [
    {
     "name": "stderr",
     "output_type": "stream",
     "text": [
      "/opt/homebrew/anaconda3/envs/scenicplus/lib/python3.11/site-packages/scanpy/preprocessing/_simple.py:843: UserWarning: Revieved a view of an AnnData. Making a copy.\n",
      "  view_to_actual(adata)\n"
     ]
    }
   ],
   "source": [
    "adata.raw = adata\n",
    "sc.pp.normalize_total(adata, target_sum=1e4)\n",
    "sc.pp.log1p(adata)\n",
    "sc.pp.highly_variable_genes(adata, min_mean=0.0125, max_mean=3, min_disp=0.5)\n",
    "adata = adata[:, adata.var.highly_variable]\n",
    "sc.pp.scale(adata, max_value=10)"
   ]
  },
  {
   "cell_type": "code",
   "execution_count": 17,
   "id": "79f79a00-96ce-426b-ac2a-a69bb37a7f3d",
   "metadata": {},
   "outputs": [
    {
     "data": {
      "text/html": [
       "<div>\n",
       "<style scoped>\n",
       "    .dataframe tbody tr th:only-of-type {\n",
       "        vertical-align: middle;\n",
       "    }\n",
       "\n",
       "    .dataframe tbody tr th {\n",
       "        vertical-align: top;\n",
       "    }\n",
       "\n",
       "    .dataframe thead th {\n",
       "        text-align: right;\n",
       "    }\n",
       "</style>\n",
       "<table border=\"1\" class=\"dataframe\">\n",
       "  <thead>\n",
       "    <tr style=\"text-align: right;\">\n",
       "      <th></th>\n",
       "      <th>VSN_cell_type</th>\n",
       "      <th>VSN_leiden_res0.3</th>\n",
       "      <th>VSN_leiden_res0.6</th>\n",
       "      <th>VSN_leiden_res0.9</th>\n",
       "      <th>VSN_leiden_res1.2</th>\n",
       "      <th>VSN_sample_id</th>\n",
       "      <th>Seurat_leiden_res0.6</th>\n",
       "      <th>Seurat_leiden_res1.2</th>\n",
       "      <th>Seurat_cell_type</th>\n",
       "      <th>n_genes_by_counts</th>\n",
       "      <th>total_counts</th>\n",
       "      <th>total_counts_mt</th>\n",
       "      <th>pct_counts_mt</th>\n",
       "    </tr>\n",
       "  </thead>\n",
       "  <tbody>\n",
       "    <tr>\n",
       "      <th>TGGACGGAGCTCGCTT-1</th>\n",
       "      <td>MGL</td>\n",
       "      <td>MGL (7)</td>\n",
       "      <td>MGL (10)</td>\n",
       "      <td>MGL (10)</td>\n",
       "      <td>MGL (12)</td>\n",
       "      <td>10x_multiome_brain</td>\n",
       "      <td>MGL (8)</td>\n",
       "      <td>MGL (9)</td>\n",
       "      <td>MGL</td>\n",
       "      <td>1539</td>\n",
       "      <td>3058.0</td>\n",
       "      <td>5.0</td>\n",
       "      <td>0.163506</td>\n",
       "    </tr>\n",
       "    <tr>\n",
       "      <th>CCGGTAGGTAGCCTAA-1</th>\n",
       "      <td>AST</td>\n",
       "      <td>AST+ENDO (9)</td>\n",
       "      <td>AST+ENDO (6)</td>\n",
       "      <td>AST+ENDO (13)</td>\n",
       "      <td>AST (15)</td>\n",
       "      <td>10x_multiome_brain</td>\n",
       "      <td>AST+ENDO (6)</td>\n",
       "      <td>AST (7)</td>\n",
       "      <td>AST</td>\n",
       "      <td>683</td>\n",
       "      <td>1020.0</td>\n",
       "      <td>0.0</td>\n",
       "      <td>0.000000</td>\n",
       "    </tr>\n",
       "    <tr>\n",
       "      <th>TGGCTATAGGCTTAGT-1</th>\n",
       "      <td>AST_CER</td>\n",
       "      <td>AST_CER (2)</td>\n",
       "      <td>AST_CER (2)</td>\n",
       "      <td>AST_CER (2)</td>\n",
       "      <td>AST_CER_2 (5)</td>\n",
       "      <td>10x_multiome_brain</td>\n",
       "      <td>BG (2)</td>\n",
       "      <td>BG (2)</td>\n",
       "      <td>BG</td>\n",
       "      <td>2276</td>\n",
       "      <td>4820.0</td>\n",
       "      <td>4.0</td>\n",
       "      <td>0.082988</td>\n",
       "    </tr>\n",
       "    <tr>\n",
       "      <th>TCCGGTAAGTTCCTCA-1</th>\n",
       "      <td>PURK</td>\n",
       "      <td>PURK (10)</td>\n",
       "      <td>PURK (12)</td>\n",
       "      <td>PURK (14)</td>\n",
       "      <td>PURK (16)</td>\n",
       "      <td>10x_multiome_brain</td>\n",
       "      <td>PURK (10)</td>\n",
       "      <td>PURK (13)</td>\n",
       "      <td>PURK</td>\n",
       "      <td>6452</td>\n",
       "      <td>32311.0</td>\n",
       "      <td>17.0</td>\n",
       "      <td>0.052614</td>\n",
       "    </tr>\n",
       "    <tr>\n",
       "      <th>GACATAGAGTTTAACG-1</th>\n",
       "      <td>MOL_B</td>\n",
       "      <td>MOL_B (0)</td>\n",
       "      <td>MOL_B_1 (0)</td>\n",
       "      <td>MOL_B_3 (5)</td>\n",
       "      <td>MOL_B_4 (4)</td>\n",
       "      <td>10x_multiome_brain</td>\n",
       "      <td>NFOL (1)</td>\n",
       "      <td>NFOL (3)</td>\n",
       "      <td>NFOL</td>\n",
       "      <td>3025</td>\n",
       "      <td>12765.0</td>\n",
       "      <td>36.0</td>\n",
       "      <td>0.282021</td>\n",
       "    </tr>\n",
       "    <tr>\n",
       "      <th>...</th>\n",
       "      <td>...</td>\n",
       "      <td>...</td>\n",
       "      <td>...</td>\n",
       "      <td>...</td>\n",
       "      <td>...</td>\n",
       "      <td>...</td>\n",
       "      <td>...</td>\n",
       "      <td>...</td>\n",
       "      <td>...</td>\n",
       "      <td>...</td>\n",
       "      <td>...</td>\n",
       "      <td>...</td>\n",
       "      <td>...</td>\n",
       "    </tr>\n",
       "    <tr>\n",
       "      <th>GGTCAGGAGGTAAGCA-1</th>\n",
       "      <td>MOL_A</td>\n",
       "      <td>MOL_A (1)</td>\n",
       "      <td>MOL_A_2 (1)</td>\n",
       "      <td>MOL_A_1  (0)</td>\n",
       "      <td>MOL_A_2 (0)</td>\n",
       "      <td>10x_multiome_brain</td>\n",
       "      <td>MOL (0)</td>\n",
       "      <td>MOL (0)</td>\n",
       "      <td>MOL</td>\n",
       "      <td>2266</td>\n",
       "      <td>5456.0</td>\n",
       "      <td>15.0</td>\n",
       "      <td>0.274927</td>\n",
       "    </tr>\n",
       "    <tr>\n",
       "      <th>TAGCAGGCAGTAATAG-1</th>\n",
       "      <td>MOL_B</td>\n",
       "      <td>MOL_B (0)</td>\n",
       "      <td>MOL_B_1 (0)</td>\n",
       "      <td>MOL_B_3 (5)</td>\n",
       "      <td>MOL_B_4 (4)</td>\n",
       "      <td>10x_multiome_brain</td>\n",
       "      <td>NFOL (1)</td>\n",
       "      <td>NFOL (3)</td>\n",
       "      <td>NFOL</td>\n",
       "      <td>3189</td>\n",
       "      <td>12924.0</td>\n",
       "      <td>3.0</td>\n",
       "      <td>0.023213</td>\n",
       "    </tr>\n",
       "    <tr>\n",
       "      <th>TTAGCCTGTTCCGCAC-1</th>\n",
       "      <td>AST_CER</td>\n",
       "      <td>AST_CER (2)</td>\n",
       "      <td>AST_CER (2)</td>\n",
       "      <td>AST_CER (2)</td>\n",
       "      <td>AST_CER_2 (5)</td>\n",
       "      <td>10x_multiome_brain</td>\n",
       "      <td>BG (2)</td>\n",
       "      <td>BG (2)</td>\n",
       "      <td>BG</td>\n",
       "      <td>3136</td>\n",
       "      <td>7575.0</td>\n",
       "      <td>4.0</td>\n",
       "      <td>0.052805</td>\n",
       "    </tr>\n",
       "    <tr>\n",
       "      <th>TAAGCTATCACCAATA-1</th>\n",
       "      <td>ASTP</td>\n",
       "      <td>AST_CER (2)</td>\n",
       "      <td>AST+ENDO (6)</td>\n",
       "      <td>AST_PRO (11)</td>\n",
       "      <td>ASTP (13)</td>\n",
       "      <td>10x_multiome_brain</td>\n",
       "      <td>AST+ENDO (6)</td>\n",
       "      <td>AST (7)</td>\n",
       "      <td>MG</td>\n",
       "      <td>3228</td>\n",
       "      <td>8245.0</td>\n",
       "      <td>4.0</td>\n",
       "      <td>0.048514</td>\n",
       "    </tr>\n",
       "    <tr>\n",
       "      <th>AGGTCCGGTGCAACTA-1</th>\n",
       "      <td>MOL_B</td>\n",
       "      <td>MOL_B (0)</td>\n",
       "      <td>MOL_B_1 (0)</td>\n",
       "      <td>MOL_B_1  (1)</td>\n",
       "      <td>MOL_B_1 (1)</td>\n",
       "      <td>10x_multiome_brain</td>\n",
       "      <td>MOL (0)</td>\n",
       "      <td>MOL (1)</td>\n",
       "      <td>MOL</td>\n",
       "      <td>2240</td>\n",
       "      <td>6825.0</td>\n",
       "      <td>1.0</td>\n",
       "      <td>0.014652</td>\n",
       "    </tr>\n",
       "  </tbody>\n",
       "</table>\n",
       "<p>2313 rows × 13 columns</p>\n",
       "</div>"
      ],
      "text/plain": [
       "                   VSN_cell_type VSN_leiden_res0.3 VSN_leiden_res0.6  \\\n",
       "TGGACGGAGCTCGCTT-1           MGL           MGL (7)          MGL (10)   \n",
       "CCGGTAGGTAGCCTAA-1           AST      AST+ENDO (9)      AST+ENDO (6)   \n",
       "TGGCTATAGGCTTAGT-1       AST_CER       AST_CER (2)       AST_CER (2)   \n",
       "TCCGGTAAGTTCCTCA-1          PURK         PURK (10)         PURK (12)   \n",
       "GACATAGAGTTTAACG-1         MOL_B         MOL_B (0)       MOL_B_1 (0)   \n",
       "...                          ...               ...               ...   \n",
       "GGTCAGGAGGTAAGCA-1         MOL_A         MOL_A (1)       MOL_A_2 (1)   \n",
       "TAGCAGGCAGTAATAG-1         MOL_B         MOL_B (0)       MOL_B_1 (0)   \n",
       "TTAGCCTGTTCCGCAC-1       AST_CER       AST_CER (2)       AST_CER (2)   \n",
       "TAAGCTATCACCAATA-1          ASTP       AST_CER (2)      AST+ENDO (6)   \n",
       "AGGTCCGGTGCAACTA-1         MOL_B         MOL_B (0)       MOL_B_1 (0)   \n",
       "\n",
       "                   VSN_leiden_res0.9 VSN_leiden_res1.2       VSN_sample_id  \\\n",
       "TGGACGGAGCTCGCTT-1          MGL (10)          MGL (12)  10x_multiome_brain   \n",
       "CCGGTAGGTAGCCTAA-1     AST+ENDO (13)          AST (15)  10x_multiome_brain   \n",
       "TGGCTATAGGCTTAGT-1       AST_CER (2)     AST_CER_2 (5)  10x_multiome_brain   \n",
       "TCCGGTAAGTTCCTCA-1         PURK (14)         PURK (16)  10x_multiome_brain   \n",
       "GACATAGAGTTTAACG-1       MOL_B_3 (5)       MOL_B_4 (4)  10x_multiome_brain   \n",
       "...                              ...               ...                 ...   \n",
       "GGTCAGGAGGTAAGCA-1      MOL_A_1  (0)       MOL_A_2 (0)  10x_multiome_brain   \n",
       "TAGCAGGCAGTAATAG-1       MOL_B_3 (5)       MOL_B_4 (4)  10x_multiome_brain   \n",
       "TTAGCCTGTTCCGCAC-1       AST_CER (2)     AST_CER_2 (5)  10x_multiome_brain   \n",
       "TAAGCTATCACCAATA-1      AST_PRO (11)         ASTP (13)  10x_multiome_brain   \n",
       "AGGTCCGGTGCAACTA-1      MOL_B_1  (1)       MOL_B_1 (1)  10x_multiome_brain   \n",
       "\n",
       "                   Seurat_leiden_res0.6 Seurat_leiden_res1.2 Seurat_cell_type  \\\n",
       "TGGACGGAGCTCGCTT-1              MGL (8)              MGL (9)              MGL   \n",
       "CCGGTAGGTAGCCTAA-1         AST+ENDO (6)              AST (7)              AST   \n",
       "TGGCTATAGGCTTAGT-1               BG (2)               BG (2)               BG   \n",
       "TCCGGTAAGTTCCTCA-1            PURK (10)            PURK (13)             PURK   \n",
       "GACATAGAGTTTAACG-1             NFOL (1)             NFOL (3)             NFOL   \n",
       "...                                 ...                  ...              ...   \n",
       "GGTCAGGAGGTAAGCA-1              MOL (0)              MOL (0)              MOL   \n",
       "TAGCAGGCAGTAATAG-1             NFOL (1)             NFOL (3)             NFOL   \n",
       "TTAGCCTGTTCCGCAC-1               BG (2)               BG (2)               BG   \n",
       "TAAGCTATCACCAATA-1         AST+ENDO (6)              AST (7)               MG   \n",
       "AGGTCCGGTGCAACTA-1              MOL (0)              MOL (1)              MOL   \n",
       "\n",
       "                    n_genes_by_counts  total_counts  total_counts_mt  \\\n",
       "TGGACGGAGCTCGCTT-1               1539        3058.0              5.0   \n",
       "CCGGTAGGTAGCCTAA-1                683        1020.0              0.0   \n",
       "TGGCTATAGGCTTAGT-1               2276        4820.0              4.0   \n",
       "TCCGGTAAGTTCCTCA-1               6452       32311.0             17.0   \n",
       "GACATAGAGTTTAACG-1               3025       12765.0             36.0   \n",
       "...                               ...           ...              ...   \n",
       "GGTCAGGAGGTAAGCA-1               2266        5456.0             15.0   \n",
       "TAGCAGGCAGTAATAG-1               3189       12924.0              3.0   \n",
       "TTAGCCTGTTCCGCAC-1               3136        7575.0              4.0   \n",
       "TAAGCTATCACCAATA-1               3228        8245.0              4.0   \n",
       "AGGTCCGGTGCAACTA-1               2240        6825.0              1.0   \n",
       "\n",
       "                    pct_counts_mt  \n",
       "TGGACGGAGCTCGCTT-1       0.163506  \n",
       "CCGGTAGGTAGCCTAA-1       0.000000  \n",
       "TGGCTATAGGCTTAGT-1       0.082988  \n",
       "TCCGGTAAGTTCCTCA-1       0.052614  \n",
       "GACATAGAGTTTAACG-1       0.282021  \n",
       "...                           ...  \n",
       "GGTCAGGAGGTAAGCA-1       0.274927  \n",
       "TAGCAGGCAGTAATAG-1       0.023213  \n",
       "TTAGCCTGTTCCGCAC-1       0.052805  \n",
       "TAAGCTATCACCAATA-1       0.048514  \n",
       "AGGTCCGGTGCAACTA-1       0.014652  \n",
       "\n",
       "[2313 rows x 13 columns]"
      ]
     },
     "execution_count": 17,
     "metadata": {},
     "output_type": "execute_result"
    }
   ],
   "source": [
    "adata.obs"
   ]
  },
  {
   "cell_type": "code",
   "execution_count": 18,
   "id": "cabdd072-6cd1-4cc9-94bb-e24a284253cb",
   "metadata": {},
   "outputs": [
    {
     "name": "stderr",
     "output_type": "stream",
     "text": [
      "/opt/homebrew/anaconda3/envs/scenicplus/lib/python3.11/site-packages/scanpy/plotting/_tools/scatterplots.py:378: UserWarning: No data for colormapping provided via 'c'. Parameters 'cmap' will be ignored\n",
      "  cax = scatter(\n"
     ]
    },
    {
     "data": {
      "image/png": "[encoded data removed]",
      "text/plain": [
       "<Figure size 640x480 with 1 Axes>"
      ]
     },
     "metadata": {},
     "output_type": "display_data"
    }
   ],
   "source": [
    "sc.tl.pca(adata)\n",
    "sc.pl.pca(adata, color = \"Seurat_cell_type\")"
   ]
  },
  {
   "cell_type": "code",
   "execution_count": 19,
   "id": "3d177817-3fd5-430a-9c6a-e9760e139037",
   "metadata": {},
   "outputs": [
    {
     "name": "stderr",
     "output_type": "stream",
     "text": [
      "OMP: Info #276: omp_set_nested routine deprecated, please use omp_set_max_active_levels instead.\n"
     ]
    }
   ],
   "source": [
    "sc.pp.neighbors(adata)"
   ]
  },
  {
   "cell_type": "code",
   "execution_count": 20,
   "id": "0487b3e9-0c82-4bbc-a682-8b320e6589d2",
   "metadata": {},
   "outputs": [],
   "source": [
    "sc.tl.umap(adata)"
   ]
  },
  {
   "cell_type": "code",
   "execution_count": 21,
   "id": "752524cc-d397-418b-9491-fce0aeae9e47",
   "metadata": {},
   "outputs": [
    {
     "name": "stderr",
     "output_type": "stream",
     "text": [
      "/opt/homebrew/anaconda3/envs/scenicplus/lib/python3.11/site-packages/scanpy/plotting/_tools/scatterplots.py:378: UserWarning: No data for colormapping provided via 'c'. Parameters 'cmap' will be ignored\n",
      "  cax = scatter(\n"
     ]
    },
    {
     "data": {
      "image/png": "[encoded data removed]",
      "text/plain": [
       "<Figure size 640x480 with 1 Axes>"
      ]
     },
     "metadata": {},
     "output_type": "display_data"
    }
   ],
   "source": [
    "sc.pl.umap(adata, color = \"Seurat_cell_type\")"
   ]
  },
  {
   "cell_type": "code",
   "execution_count": 22,
   "id": "df6560a0-92e6-4870-aed8-27f643dfc6b5",
   "metadata": {},
   "outputs": [],
   "source": [
    "adata.write(\"adata.h5ad\")\n",
    "\n"
   ]
  },
  {
   "cell_type": "markdown",
   "id": "ae9e05bb",
   "metadata": {},
   "source": [
    "## To quick check which genes are present"
   ]
  },
  {
   "cell_type": "code",
   "execution_count": 29,
   "id": "42fbf2a8",
   "metadata": {},
   "outputs": [],
   "source": [
    "# read the adata object\n",
    "import anndata as ad\n",
    "adata = ad.read_h5ad(\"adata.h5ad\")"
   ]
  },
  {
   "cell_type": "code",
   "execution_count": 36,
   "id": "d930a995",
   "metadata": {},
   "outputs": [
    {
     "name": "stdout",
     "output_type": "stream",
     "text": [
      "TP53 is present in adata.\n"
     ]
    }
   ],
   "source": [
    "if \"TP53\" in adata.var_names:\n",
    "    print(\"TP53 is present in adata.\")\n",
    "else:\n",
    "    print(\"TP53 is not present in adata.\")\n"
   ]
  },
  {
   "cell_type": "code",
   "execution_count": null,
   "id": "041b0e5d",
   "metadata": {},
   "outputs": [],
   "source": []
  }
 ],
 "metadata": {
  "kernelspec": {
   "display_name": "scenicplus",
   "language": "python",
   "name": "python3"
  },
  "language_info": {
   "codemirror_mode": {
    "name": "ipython",
    "version": 3
   },
   "file_extension": ".py",
   "mimetype": "text/x-python",
   "name": "python",
   "nbconvert_exporter": "python",
   "pygments_lexer": "ipython3",
   "version": "3.11.8"
  }
 },
 "nbformat": 4,
 "nbformat_minor": 5
}
