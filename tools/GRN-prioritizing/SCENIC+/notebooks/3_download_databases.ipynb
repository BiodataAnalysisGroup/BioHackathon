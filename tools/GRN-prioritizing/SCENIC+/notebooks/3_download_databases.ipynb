{
 "cells": [
  {
   "cell_type": "markdown",
   "metadata": {},
   "source": [
    "# Download the cisTopic databases for the analysis\n",
    "\n",
    "This tutorial is based on the SCENIC+ tutorial:\n",
    "\n",
    "https://scenicplus.readthedocs.io/en/latest/tutorials.html\n",
    "\n",
    "with the adjustments made by Liya Zaygerman.\n",
    "\n",
    "The link has to be adjusted if you are using mouse or fly. Unfortunately, these are the only 3 model organisms SCENIC+ people offer, and everything else has to be generated from scratch. We stick to the existing files for now.\n",
    "\n",
    "Other ones can be found here:\n",
    "https://resources.aertslab.org/cistarget/databases/"
   ]
  },
  {
   "cell_type": "code",
   "execution_count": 4,
   "metadata": {},
   "outputs": [],
   "source": [
    "# Specify database, change if needed (e.g. mouse, fly)\n",
    "feather_database_url_rankings='https://resources.aertslab.org/cistarget/databases/homo_sapiens/hg38/screen/mc_v10_clust/region_based/hg38_screen_v10_clust.regions_vs_motifs.rankings.feather'\n",
    "feather_database_url_scores='https://resources.aertslab.org/cistarget/databases/homo_sapiens/hg38/screen/mc_v10_clust/region_based/hg38_screen_v10_clust.regions_vs_motifs.scores.feather'\n"
   ]
  },
  {
   "cell_type": "code",
   "execution_count": 7,
   "metadata": {},
   "outputs": [
    {
     "name": "stdout",
     "output_type": "stream",
     "text": [
      "--2024-10-31 12:36:30--  https://resources.aertslab.org/cistarget/databases/homo_sapiens/hg38/screen/mc_v10_clust/region_based/hg38_screen_v10_clust.regions_vs_motifs.rankings.feather\n",
      "Resolving resources.aertslab.org (resources.aertslab.org)... 134.58.50.9\n",
      "Connecting to resources.aertslab.org (resources.aertslab.org)|134.58.50.9|:443... connected.\n",
      "HTTP request sent, awaiting response... 200 OK\n",
      "Length: 35192958114 (33G)\n",
      "Saving to: ‘hg38_screen_v10_clust.regions_vs_motifs.rankings.feather.1’\n",
      "\n",
      "rankings.feather.1    0%[                    ]  41.84M   773KB/s    eta 9h 39m ^C\n"
     ]
    }
   ],
   "source": [
    "# Download database directly (with wget or curl):\n",
    "!wget \"{feather_database_url_rankings}\"\n",
    "!wget \"{feather_database_url_scores}\"\n"
   ]
  },
  {
   "cell_type": "code",
   "execution_count": null,
   "metadata": {},
   "outputs": [],
   "source": [
    "\n",
    "# Download sha256sum.txt (with wget or curl):\n",
    "!wget https://resources.aertslab.org/cistarget/databases/sha256sum.txt\n",
    "# curl -O https://resources.aertslab.org/cistarget/databases/sha256sum.txt\n",
    "\n",
    "# Check if sha256 checksum matches for the downloaded database:\n",
    "!awk -v feather_database=${feather_database} '$2 == feather_database' sha256sum.txt | sha256sum -c -\n",
    "\n",
    "# If you downloaded mulitple databases, you can check them all at onces with:\n",
    "!sha256sum -c sha256sum.txt"
   ]
  }
 ],
 "metadata": {
  "kernelspec": {
   "display_name": "scenicplus",
   "language": "python",
   "name": "python3"
  },
  "language_info": {
   "codemirror_mode": {
    "name": "ipython",
    "version": 3
   },
   "file_extension": ".py",
   "mimetype": "text/x-python",
   "name": "python",
   "nbconvert_exporter": "python",
   "pygments_lexer": "ipython3",
   "version": "3.11.8"
  }
 },
 "nbformat": 4,
 "nbformat_minor": 2
}
