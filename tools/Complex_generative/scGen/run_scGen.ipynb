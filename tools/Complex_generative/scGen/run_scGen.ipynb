{
 "cells": [
  {
   "cell_type": "markdown",
   "metadata": {},
   "source": [
    "# Run scGen"
   ]
  },
  {
   "cell_type": "markdown",
   "metadata": {},
   "source": [
    "add class documentation"
   ]
  },
  {
   "cell_type": "code",
   "execution_count": 1,
   "metadata": {},
   "outputs": [],
   "source": [
    "# Importing necessary libraries\n",
    "import pertpy as pp\n",
    "import scanpy as sc\n",
    "import sys\n",
    "sys.path.append('./')\n",
    "from scGen_class import scGenPerturbationAnalysis"
   ]
  },
  {
   "cell_type": "code",
   "execution_count": 2,
   "metadata": {},
   "outputs": [],
   "source": [
    "# Loading the dataset\n",
    "covid_data = pp.dt.stephenson_2021_subsampled()\n",
    "#covid_data = sc.read('data/stephenson_2021_subsampled.h5ad')"
   ]
  },
  {
   "cell_type": "code",
   "execution_count": 3,
   "metadata": {},
   "outputs": [],
   "source": [
    "# input parameters\n",
    "condition_col= \"time_after_LPS\" #or \"disease\" in case COVID vs normal\n",
    "ctrl_key = \"nan\"\n",
    "stim_key = \"10h\"\n",
    "celltype_col = \"author_cell_type\"\n",
    "celltype_to_predict = \"B_naive\"\n",
    "n_epochs = 20"
   ]
  },
  {
   "cell_type": "code",
   "execution_count": 4,
   "metadata": {},
   "outputs": [],
   "source": [
    "# filter the data set to have pairwise comparison \n",
    "LPSN_data = covid_data[((covid_data.obs[\"disease\"] == \"normal\"))]\n",
    "LPSN_data = LPSN_data[(LPSN_data.obs[condition_col].isin([ctrl_key, stim_key]))]"
   ]
  },
  {
   "cell_type": "code",
   "execution_count": 5,
   "metadata": {},
   "outputs": [],
   "source": [
    "#downsample the data set\n",
    "sc.pp.subsample(LPSN_data, n_obs=3000)"
   ]
  },
  {
   "cell_type": "code",
   "execution_count": 11,
   "metadata": {},
   "outputs": [
    {
     "name": "stdout",
     "output_type": "stream",
     "text": [
      "['B_naive', 'CD8.Naive', 'CD4.Naive', 'NK_16hi', 'B_immature', 'B_switched_memory', 'B_exhausted', 'NK_56hi', 'Platelets', 'CD8.EM', 'B_non-switched_memory', 'CD4.CM', 'MAIT', 'gdT', 'Plasma_cell_IgM', 'Plasmablast', 'CD8.TE', 'Plasma_cell_IgG', 'CD4.IL22']\n"
     ]
    },
    {
     "data": {
      "text/plain": [
       "19"
      ]
     },
     "execution_count": 11,
     "metadata": {},
     "output_type": "execute_result"
    }
   ],
   "source": [
    "### get cell types that exists in stimulated condition only\n",
    "filtered_data = LPSN_data[LPSN_data.obs[condition_col] == stim_key]\n",
    "# Count the occurrences of each unique value in celltype_col in the filtered data\n",
    "celltype_counts = filtered_data.obs[celltype_col].value_counts()\n",
    "# Get only the cell types that have more than 0 counts in stimulated condition\n",
    "unique_celltypes = celltype_counts[celltype_counts > 0].index.tolist()\n",
    "# Display the unique cell types\n",
    "print(unique_celltypes)\n",
    "len(unique_celltypes)"
   ]
  },
  {
   "cell_type": "code",
   "execution_count": 12,
   "metadata": {},
   "outputs": [
    {
     "name": "stderr",
     "output_type": "stream",
     "text": [
      "/var/folders/13/yntv3wyn4v90z0vh3fcqrckm0000gn/T/ipykernel_47781/2931515266.py:1: FutureWarning: The default of observed=False is deprecated and will be changed to True in a future version of pandas. Pass observed=False to retain current behavior or observed=True to adopt the future default and silence this warning.\n",
      "  combined_counts = LPSN_data.obs.groupby([celltype_col,condition_col]).size()\n"
     ]
    },
    {
     "data": {
      "text/html": [
       "<div>\n",
       "<style scoped>\n",
       "    .dataframe tbody tr th:only-of-type {\n",
       "        vertical-align: middle;\n",
       "    }\n",
       "\n",
       "    .dataframe tbody tr th {\n",
       "        vertical-align: top;\n",
       "    }\n",
       "\n",
       "    .dataframe thead th {\n",
       "        text-align: right;\n",
       "    }\n",
       "</style>\n",
       "<table border=\"1\" class=\"dataframe\">\n",
       "  <thead>\n",
       "    <tr style=\"text-align: right;\">\n",
       "      <th></th>\n",
       "      <th>author_cell_type</th>\n",
       "      <th>time_after_LPS</th>\n",
       "      <th>counts</th>\n",
       "    </tr>\n",
       "  </thead>\n",
       "  <tbody>\n",
       "    <tr>\n",
       "      <th>0</th>\n",
       "      <td>ASDC</td>\n",
       "      <td>10h</td>\n",
       "      <td>0</td>\n",
       "    </tr>\n",
       "    <tr>\n",
       "      <th>1</th>\n",
       "      <td>ASDC</td>\n",
       "      <td>nan</td>\n",
       "      <td>1</td>\n",
       "    </tr>\n",
       "    <tr>\n",
       "      <th>2</th>\n",
       "      <td>B_exhausted</td>\n",
       "      <td>10h</td>\n",
       "      <td>11</td>\n",
       "    </tr>\n",
       "    <tr>\n",
       "      <th>3</th>\n",
       "      <td>B_exhausted</td>\n",
       "      <td>nan</td>\n",
       "      <td>8</td>\n",
       "    </tr>\n",
       "    <tr>\n",
       "      <th>4</th>\n",
       "      <td>B_immature</td>\n",
       "      <td>10h</td>\n",
       "      <td>16</td>\n",
       "    </tr>\n",
       "    <tr>\n",
       "      <th>...</th>\n",
       "      <td>...</td>\n",
       "      <td>...</td>\n",
       "      <td>...</td>\n",
       "    </tr>\n",
       "    <tr>\n",
       "      <th>83</th>\n",
       "      <td>Treg</td>\n",
       "      <td>nan</td>\n",
       "      <td>1</td>\n",
       "    </tr>\n",
       "    <tr>\n",
       "      <th>84</th>\n",
       "      <td>gdT</td>\n",
       "      <td>10h</td>\n",
       "      <td>5</td>\n",
       "    </tr>\n",
       "    <tr>\n",
       "      <th>85</th>\n",
       "      <td>gdT</td>\n",
       "      <td>nan</td>\n",
       "      <td>89</td>\n",
       "    </tr>\n",
       "    <tr>\n",
       "      <th>86</th>\n",
       "      <td>pDC</td>\n",
       "      <td>10h</td>\n",
       "      <td>0</td>\n",
       "    </tr>\n",
       "    <tr>\n",
       "      <th>87</th>\n",
       "      <td>pDC</td>\n",
       "      <td>nan</td>\n",
       "      <td>23</td>\n",
       "    </tr>\n",
       "  </tbody>\n",
       "</table>\n",
       "<p>88 rows × 3 columns</p>\n",
       "</div>"
      ],
      "text/plain": [
       "   author_cell_type time_after_LPS  counts\n",
       "0              ASDC            10h       0\n",
       "1              ASDC            nan       1\n",
       "2       B_exhausted            10h      11\n",
       "3       B_exhausted            nan       8\n",
       "4        B_immature            10h      16\n",
       "..              ...            ...     ...\n",
       "83             Treg            nan       1\n",
       "84              gdT            10h       5\n",
       "85              gdT            nan      89\n",
       "86              pDC            10h       0\n",
       "87              pDC            nan      23\n",
       "\n",
       "[88 rows x 3 columns]"
      ]
     },
     "execution_count": 12,
     "metadata": {},
     "output_type": "execute_result"
    }
   ],
   "source": [
    "combined_counts = LPSN_data.obs.groupby([celltype_col,condition_col]).size() \n",
    "combined_counts_df = combined_counts.reset_index(name='counts')\n",
    "combined_counts_df"
   ]
  },
  {
   "cell_type": "code",
   "execution_count": null,
   "metadata": {},
   "outputs": [
    {
     "name": "stdout",
     "output_type": "stream",
     "text": [
      "Preprocessing data for scGen...\n",
      "Data normalized for scGen.\n",
      "\n",
      "Removed B_naive &  10h  from the training set\n",
      "\n",
      "\n",
      "Setting up AnnData for scGen...\n",
      "AnnData set up for scGen.\n",
      "\n",
      "Initializing and training scGen model...\n"
     ]
    },
    {
     "name": "stderr",
     "output_type": "stream",
     "text": [
      "/Users/rosario/opt/anaconda3/envs/pertpy-env/lib/python3.10/site-packages/scvi/data/fields/_dataframe_field.py:186: UserWarning: Category 0 in adata.obs['_scvi_labels'] has fewer than 3 cells. Models may not train properly.\n",
      "  categorical_mapping = _make_column_categorical(\n"
     ]
    },
    {
     "name": "stdout",
     "output_type": "stream",
     "text": [
      "scGen model initialized.\n",
      "\n",
      "\u001b[34mINFO    \u001b[0m Jax module moved to TFRT_CPU_0.Note: Pytorch lightning will show GPU is not being used for the Trainer.   \n"
     ]
    },
    {
     "name": "stderr",
     "output_type": "stream",
     "text": [
      "GPU available: False, used: False\n",
      "TPU available: False, using: 0 TPU cores\n",
      "HPU available: False, using: 0 HPUs\n",
      "/Users/rosario/opt/anaconda3/envs/pertpy-env/lib/python3.10/site-packages/lightning/pytorch/trainer/connectors/data_connector.py:424: The 'train_dataloader' does not have many workers which may be a bottleneck. Consider increasing the value of the `num_workers` argument` to `num_workers=7` in the `DataLoader` to improve performance.\n",
      "/Users/rosario/opt/anaconda3/envs/pertpy-env/lib/python3.10/site-packages/lightning/pytorch/trainer/connectors/data_connector.py:424: The 'val_dataloader' does not have many workers which may be a bottleneck. Consider increasing the value of the `num_workers` argument` to `num_workers=7` in the `DataLoader` to improve performance.\n"
     ]
    },
    {
     "data": {
      "application/vnd.jupyter.widget-view+json": {
       "model_id": "cf91c95f93654dbc9ee2ff287e665330",
       "version_major": 2,
       "version_minor": 0
      },
      "text/plain": [
       "Training:   0%|          | 0/20 [00:00<?, ?it/s]"
      ]
     },
     "metadata": {},
     "output_type": "display_data"
    },
    {
     "name": "stderr",
     "output_type": "stream",
     "text": [
      "`Trainer.fit` stopped: `max_epochs=20` reached.\n"
     ]
    },
    {
     "name": "stdout",
     "output_type": "stream",
     "text": [
      "scGen model trained.\n",
      "\n",
      "scGen model saved to 'model_perturbation_prediction.pt'.\n",
      "\n",
      "Making predictions for  B_naive &  10h\n"
     ]
    },
    {
     "name": "stderr",
     "output_type": "stream",
     "text": [
      "/Users/rosario/opt/anaconda3/envs/pertpy-env/lib/python3.10/site-packages/anndata/_core/anndata.py:1754: UserWarning: Observation names are not unique. To make them unique, call `.obs_names_make_unique`.\n",
      "  utils.warn_names_duplicates(\"obs\")\n"
     ]
    },
    {
     "name": "stdout",
     "output_type": "stream",
     "text": [
      "\u001b[34mINFO    \u001b[0m Received view of anndata, making copy.                                                                    \n",
      "\u001b[34mINFO    \u001b[0m Input AnnData not setup with scvi-tools. attempting to transfer AnnData setup                             \n"
     ]
    }
   ],
   "source": [
    "# Initialize an empty list to store the results\n",
    "results = []\n",
    "\n",
    "for i in unique_celltypes:\n",
    "\n",
    "    celltype_to_predict = i\n",
    "\n",
    "    # Instantiating the PerturbationAnalysis class with the loaded data\n",
    "    analysis = scGenPerturbationAnalysis(LPSN_data)\n",
    "    # Preprocessing the data\n",
    "    analysis.preprocess_data() #just normalisation\n",
    "    analysis.prepare_training_set(condition_col, \n",
    "                                stim_key,\n",
    "                                celltype_col,\n",
    "                                celltype_to_predict)\n",
    "    # Setting up AnnData for scGen\n",
    "    analysis.setup_anndata(condition_col, \n",
    "                        celltype_col)\n",
    "    analysis.train_model(max_epochs= n_epochs, batch_size=64)\n",
    "    # Making predictions \n",
    "    analysis.make_prediction(\n",
    "                            ctrl_key,\n",
    "                            stim_key,\n",
    "                            celltype_to_predict,\n",
    "                            condition_col)\n",
    "    # Evaluating the predictions\n",
    "    analysis.evaluate_prediction(celltype_col,\n",
    "                                celltype_to_predict,\n",
    "                                condition_col,\n",
    "                                ctrl_key,\n",
    "                                stim_key)\n",
    "    # Identifying differentially expressed genes\n",
    "    analysis.identify_diff_genes(celltype_col,\n",
    "                                celltype_to_predict,\n",
    "                                condition_col,\n",
    "                                stim_key)\n",
    "    analysis.plot_mean_correlation(stim_key)\n",
    "    \n",
    "    # Get R2 value\n",
    "    r2_value = analysis.r2_value\n",
    "\n",
    "    # Computing the distance metric\n",
    "    metric = \"edistance\"\n",
    "    n_comps = 50\n",
    "    analysis.compute_distance_metric(n_comps,\n",
    "                                    metric,\n",
    "                                    condition_col,\n",
    "                                    stim_key,\n",
    "                                    ctrl_key)\n",
    "    # Get the perturbation score\n",
    "    e_distance = analysis.perturbation_score\n",
    "\n",
    "    metric = \"mmd\"\n",
    "    n_comps = 50\n",
    "    analysis.compute_distance_metric(n_comps,\n",
    "                                    metric,\n",
    "                                    condition_col,\n",
    "                                    stim_key,\n",
    "                                    ctrl_key)\n",
    "    # Get the perturbation score\n",
    "    mmd = analysis.perturbation_score #maximum mean distance\n",
    "\n",
    "    metric = \"euclidean\"\n",
    "    n_comps = 50\n",
    "    analysis.compute_distance_metric(n_comps,\n",
    "                                    metric,\n",
    "                                    condition_col,\n",
    "                                    stim_key,\n",
    "                                    ctrl_key)\n",
    "    # Get the perturbation score\n",
    "    euclidean = analysis.perturbation_score #maximum mean distance\n",
    "\n",
    "    results.append({\n",
    "            \"celltype_to_predict\": celltype_to_predict,\n",
    "            \"r2_value\": r2_value,\n",
    "            \"e_distance\": e_distance,\n",
    "            \"mmd\": mmd,\n",
    "            \"euclidean\": euclidean\n",
    "\n",
    "\n",
    "        })\n",
    "    \n",
    "    results"
   ]
  },
  {
   "cell_type": "code",
   "execution_count": null,
   "metadata": {},
   "outputs": [],
   "source": []
  }
 ],
 "metadata": {
  "kernelspec": {
   "display_name": "pertpy-env",
   "language": "python",
   "name": "python3"
  },
  "language_info": {
   "codemirror_mode": {
    "name": "ipython",
    "version": 3
   },
   "file_extension": ".py",
   "mimetype": "text/x-python",
   "name": "python",
   "nbconvert_exporter": "python",
   "pygments_lexer": "ipython3",
   "version": "3.10.15"
  }
 },
 "nbformat": 4,
 "nbformat_minor": 2
}
