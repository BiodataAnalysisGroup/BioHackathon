{
 "cells": [
  {
   "cell_type": "markdown",
   "metadata": {},
   "source": [
    "# Run scGen"
   ]
  },
  {
   "cell_type": "markdown",
   "metadata": {},
   "source": [
    "add class documentation"
   ]
  },
  {
   "cell_type": "code",
   "execution_count": null,
   "metadata": {},
   "outputs": [],
   "source": [
    "# Importing necessary libraries\n",
    "import pertpy as pp\n",
    "import scanpy as sc\n",
    "import sys\n",
    "import pandas as pd\n",
    "import seaborn as sns\n",
    "import matplotlib.pyplot as plt\n",
    "sys.path.append('./')\n",
    "from scGen_class import scGenPerturbationAnalysis"
   ]
  },
  {
   "cell_type": "code",
   "execution_count": null,
   "metadata": {},
   "outputs": [],
   "source": [
    "# Loading the dataset\n",
    "covid_data = pp.dt.stephenson_2021_subsampled()\n",
    "#covid_data = sc.read('data/stephenson_2021_subsampled.h5ad')"
   ]
  },
  {
   "cell_type": "code",
   "execution_count": null,
   "metadata": {},
   "outputs": [],
   "source": [
    "# input parameters\n",
    "condition_col= \"time_after_LPS\" #or \"disease\" in case COVID vs normal\n",
    "ctrl_key = \"nan\"\n",
    "stim_key = \"10h\" # early LPS \"90m\"\n",
    "celltype_col = \"author_cell_type\" # \"cell_type\"\n",
    "celltype_to_predict = \"B_naive\"\n",
    "n_epochs = 20\n",
    "n_comps = 50 # n_comps for PCA and distance metric calculation"
   ]
  },
  {
   "cell_type": "code",
   "execution_count": null,
   "metadata": {},
   "outputs": [],
   "source": [
    "# filter the data set to have pairwise comparison \n",
    "LPSN_data = covid_data[((covid_data.obs[\"disease\"] == \"normal\"))]\n",
    "LPSN_data = LPSN_data[(LPSN_data.obs[condition_col].isin([ctrl_key, stim_key]))]"
   ]
  },
  {
   "cell_type": "code",
   "execution_count": null,
   "metadata": {},
   "outputs": [],
   "source": [
    "#downsample the data set\n",
    "sc.pp.subsample(LPSN_data, n_obs=3000)"
   ]
  },
  {
   "cell_type": "code",
   "execution_count": null,
   "metadata": {},
   "outputs": [],
   "source": [
    "# Filter data for control and stimulated conditions\n",
    "ctrl_data = LPSN_data[LPSN_data.obs[condition_col] == ctrl_key]\n",
    "stim_data = LPSN_data[LPSN_data.obs[condition_col] == stim_key]\n",
    "\n",
    "# Get unique cell types for each condition\n",
    "ctrl_celltypes = set(ctrl_data.obs[celltype_col].unique())\n",
    "stim_celltypes = set(stim_data.obs[celltype_col].unique())\n",
    "\n",
    "# Find the intersection (cell types present in both conditions)\n",
    "common_celltypes = list(ctrl_celltypes.intersection(stim_celltypes))\n",
    "\n",
    "print(common_celltypes)\n",
    "len(common_celltypes)"
   ]
  },
  {
   "cell_type": "code",
   "execution_count": null,
   "metadata": {},
   "outputs": [],
   "source": [
    "combined_counts = LPSN_data.obs.groupby([celltype_col,condition_col]).size() \n",
    "combined_counts_df = combined_counts.reset_index(name='counts')\n",
    "combined_counts_df"
   ]
  },
  {
   "cell_type": "code",
   "execution_count": null,
   "metadata": {},
   "outputs": [],
   "source": [
    "# Initialize an empty list to store the results\n",
    "results = []\n",
    "\n",
    "for i in common_celltypes:\n",
    "\n",
    "    celltype_to_predict = i\n",
    "\n",
    "    # Instantiating the PerturbationAnalysis class with the loaded data\n",
    "    analysis = scGenPerturbationAnalysis(LPSN_data)\n",
    "    # Preprocessing the data\n",
    "    analysis.preprocess_data(apply_log1p = True) #normalisation mandatory, and log1p optional... maybe test both\n",
    "    analysis.prepare_training_set(condition_col, \n",
    "                                stim_key,\n",
    "                                celltype_col,\n",
    "                                celltype_to_predict)\n",
    "    # Setting up AnnData for scGen\n",
    "    analysis.setup_anndata(condition_col, \n",
    "                        celltype_col)\n",
    "    analysis.train_model(max_epochs= n_epochs, batch_size=64)\n",
    "    # Making predictions \n",
    "    analysis.make_prediction(\n",
    "                            ctrl_key,\n",
    "                            stim_key,\n",
    "                            celltype_to_predict,\n",
    "                            condition_col)\n",
    "    # Evaluating the predictions\n",
    "    analysis.evaluate_prediction(celltype_col,\n",
    "                                celltype_to_predict,\n",
    "                                condition_col,\n",
    "                                ctrl_key,\n",
    "                                stim_key)\n",
    "    analysis.plot_mean_correlation(stim_key) #\n",
    "    \n",
    "    # Get R2 value\n",
    "    r2_value = analysis.r2_value\n",
    "\n",
    "    # Computing the distance metric\n",
    "    metric = \"edistance\"\n",
    "    analysis.compute_distance_metric(n_comps,\n",
    "                                    metric,\n",
    "                                    condition_col,\n",
    "                                    stim_key,\n",
    "                                    ctrl_key)\n",
    "    # Get the perturbation score\n",
    "    e_distance = analysis.perturbation_score\n",
    "\n",
    "    metric = \"mmd\"\n",
    "    analysis.compute_distance_metric(n_comps,\n",
    "                                    metric,\n",
    "                                    condition_col,\n",
    "                                    stim_key,\n",
    "                                    ctrl_key)\n",
    "    # Get the perturbation score\n",
    "    mmd = analysis.perturbation_score #maximum mean distance\n",
    "\n",
    "    metric = \"euclidean\"\n",
    "    analysis.compute_distance_metric(n_comps,\n",
    "                                    metric,\n",
    "                                    condition_col,\n",
    "                                    stim_key,\n",
    "                                    ctrl_key)\n",
    "    # Get the perturbation score\n",
    "    euclidean = analysis.perturbation_score #maximum mean distance\n",
    "\n",
    "    results.append({\n",
    "            \"celltype_to_predict\": celltype_to_predict,\n",
    "            \"r2_value\": r2_value,\n",
    "            \"e_distance\": e_distance,\n",
    "            \"mmd\": mmd,\n",
    "            \"euclidean\": euclidean\n",
    "\n",
    "\n",
    "        })\n",
    "    "
   ]
  },
  {
   "cell_type": "code",
   "execution_count": null,
   "metadata": {},
   "outputs": [],
   "source": [
    "\n",
    "results_df = pd.DataFrame(results)\n",
    "results_df.to_csv(\"results_table_stephenson_20epochs_lateLPS.csv\", index=False)\n"
   ]
  },
  {
   "cell_type": "code",
   "execution_count": null,
   "metadata": {},
   "outputs": [],
   "source": [
    "#evaluate results:\n",
    "# Load the CSV file into a DataFrame\n",
    "data = pd.read_csv(\"results_table_stephenson_20epochs_lateLPS.csv\")\n",
    "\n",
    "# Set up the plotting style and dimensions\n",
    "sns.set(style=\"whitegrid\")\n",
    "fig, axes = plt.subplots(1, 4, figsize=(20, 6), sharey=True)\n",
    "\n",
    "# Define metrics and their labels for x-axis\n",
    "metrics = [\"r2_value\", \"e_distance\", \"mmd\", \"euclidean\"]\n",
    "x_labels = [\"R2 Value\", \"E Distance\", \"MMD\", \"Euclidean\"]\n",
    "\n",
    "# Create a bar plot for each metric\n",
    "for i, metric in enumerate(metrics):\n",
    "    sns.barplot(\n",
    "        y=\"celltype_to_predict\", x=metric, data=data, ax=axes[i], palette=\"viridis\"\n",
    "    )\n",
    "    axes[i].set_xlabel(x_labels[i])\n",
    "\n",
    "# Set common title and show plot\n",
    "plt.suptitle(\"Metrics by Cell Type\")\n",
    "plt.tight_layout(rect=[0, 0, 1, 0.95])\n",
    "plt.show()"
   ]
  }
 ],
 "metadata": {
  "kernelspec": {
   "display_name": "pertpy-env",
   "language": "python",
   "name": "python3"
  },
  "language_info": {
   "codemirror_mode": {
    "name": "ipython",
    "version": 3
   },
   "file_extension": ".py",
   "mimetype": "text/x-python",
   "name": "python",
   "nbconvert_exporter": "python",
   "pygments_lexer": "ipython3",
   "version": "3.10.15"
  }
 },
 "nbformat": 4,
 "nbformat_minor": 2
}
