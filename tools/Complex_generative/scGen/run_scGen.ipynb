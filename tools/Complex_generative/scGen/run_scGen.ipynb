{
 "cells": [
  {
   "cell_type": "markdown",
   "metadata": {},
   "source": [
    "# Run scGen"
   ]
  },
  {
   "cell_type": "markdown",
   "metadata": {},
   "source": [
    "add class documentation"
   ]
  },
  {
   "cell_type": "code",
   "execution_count": 26,
   "metadata": {},
   "outputs": [],
   "source": [
    "# Importing necessary libraries\n",
    "import pertpy as pp\n",
    "import scanpy as sc\n",
    "import sys\n",
    "import pandas as pd\n",
    "import seaborn as sns\n",
    "import matplotlib.pyplot as plt\n",
    "sys.path.append('./')\n",
    "from scGen_class import scGenPerturbationAnalysis"
   ]
  },
  {
   "cell_type": "code",
   "execution_count": 2,
   "metadata": {},
   "outputs": [],
   "source": [
    "# Loading the dataset\n",
    "covid_data = pp.dt.stephenson_2021_subsampled()\n",
    "#covid_data = sc.read('data/stephenson_2021_subsampled.h5ad')"
   ]
  },
  {
   "cell_type": "code",
   "execution_count": null,
   "metadata": {},
   "outputs": [],
   "source": [
    "# input parameters\n",
    "condition_col= \"time_after_LPS\" #or \"disease\" in case COVID vs normal\n",
    "ctrl_key = \"nan\"\n",
    "stim_key = \"10h\" # early LPS \"90m\"\n",
    "celltype_col = \"author_cell_type\" # \"cell_type\"\n",
    "celltype_to_predict = \"B_naive\"\n",
    "n_epochs = 20\n",
    "n_comps = 50 # n_comps for PCA and distance metric calculation"
   ]
  },
  {
   "cell_type": "code",
   "execution_count": 4,
   "metadata": {},
   "outputs": [],
   "source": [
    "# filter the data set to have pairwise comparison \n",
    "LPSN_data = covid_data[((covid_data.obs[\"disease\"] == \"normal\"))]\n",
    "LPSN_data = LPSN_data[(LPSN_data.obs[condition_col].isin([ctrl_key, stim_key]))]"
   ]
  },
  {
   "cell_type": "code",
   "execution_count": 5,
   "metadata": {},
   "outputs": [],
   "source": [
    "#downsample the data set\n",
    "sc.pp.subsample(LPSN_data, n_obs=3000)"
   ]
  },
  {
   "cell_type": "code",
   "execution_count": 6,
   "metadata": {},
   "outputs": [
    {
     "name": "stdout",
     "output_type": "stream",
     "text": [
      "['MAIT', 'CD4.IL22', 'Plasmablast', 'Platelets', 'CD8.EM', 'Plasma_cell_IgM', 'B_exhausted', 'CD4.Naive', 'B_immature', 'B_naive', 'CD8.TE', 'B_non-switched_memory', 'CD4.CM', 'Plasma_cell_IgG', 'CD8.Naive', 'gdT', 'B_switched_memory', 'NK_56hi', 'NK_16hi']\n"
     ]
    },
    {
     "data": {
      "text/plain": [
       "19"
      ]
     },
     "execution_count": 6,
     "metadata": {},
     "output_type": "execute_result"
    }
   ],
   "source": [
    "# Filter data for control and stimulated conditions\n",
    "ctrl_data = LPSN_data[LPSN_data.obs[condition_col] == ctrl_key]\n",
    "stim_data = LPSN_data[LPSN_data.obs[condition_col] == stim_key]\n",
    "\n",
    "# Get unique cell types for each condition\n",
    "ctrl_celltypes = set(ctrl_data.obs[celltype_col].unique())\n",
    "stim_celltypes = set(stim_data.obs[celltype_col].unique())\n",
    "\n",
    "# Find the intersection (cell types present in both conditions)\n",
    "common_celltypes = list(ctrl_celltypes.intersection(stim_celltypes))\n",
    "\n",
    "print(common_celltypes)\n",
    "len(common_celltypes)"
   ]
  },
  {
   "cell_type": "code",
   "execution_count": 7,
   "metadata": {},
   "outputs": [
    {
     "name": "stderr",
     "output_type": "stream",
     "text": [
      "/var/folders/13/yntv3wyn4v90z0vh3fcqrckm0000gn/T/ipykernel_52479/2931515266.py:1: FutureWarning: The default of observed=False is deprecated and will be changed to True in a future version of pandas. Pass observed=False to retain current behavior or observed=True to adopt the future default and silence this warning.\n",
      "  combined_counts = LPSN_data.obs.groupby([celltype_col,condition_col]).size()\n"
     ]
    },
    {
     "data": {
      "text/html": [
       "<div>\n",
       "<style scoped>\n",
       "    .dataframe tbody tr th:only-of-type {\n",
       "        vertical-align: middle;\n",
       "    }\n",
       "\n",
       "    .dataframe tbody tr th {\n",
       "        vertical-align: top;\n",
       "    }\n",
       "\n",
       "    .dataframe thead th {\n",
       "        text-align: right;\n",
       "    }\n",
       "</style>\n",
       "<table border=\"1\" class=\"dataframe\">\n",
       "  <thead>\n",
       "    <tr style=\"text-align: right;\">\n",
       "      <th></th>\n",
       "      <th>author_cell_type</th>\n",
       "      <th>time_after_LPS</th>\n",
       "      <th>counts</th>\n",
       "    </tr>\n",
       "  </thead>\n",
       "  <tbody>\n",
       "    <tr>\n",
       "      <th>0</th>\n",
       "      <td>ASDC</td>\n",
       "      <td>10h</td>\n",
       "      <td>0</td>\n",
       "    </tr>\n",
       "    <tr>\n",
       "      <th>1</th>\n",
       "      <td>ASDC</td>\n",
       "      <td>nan</td>\n",
       "      <td>1</td>\n",
       "    </tr>\n",
       "    <tr>\n",
       "      <th>2</th>\n",
       "      <td>B_exhausted</td>\n",
       "      <td>10h</td>\n",
       "      <td>11</td>\n",
       "    </tr>\n",
       "    <tr>\n",
       "      <th>3</th>\n",
       "      <td>B_exhausted</td>\n",
       "      <td>nan</td>\n",
       "      <td>8</td>\n",
       "    </tr>\n",
       "    <tr>\n",
       "      <th>4</th>\n",
       "      <td>B_immature</td>\n",
       "      <td>10h</td>\n",
       "      <td>16</td>\n",
       "    </tr>\n",
       "    <tr>\n",
       "      <th>...</th>\n",
       "      <td>...</td>\n",
       "      <td>...</td>\n",
       "      <td>...</td>\n",
       "    </tr>\n",
       "    <tr>\n",
       "      <th>83</th>\n",
       "      <td>Treg</td>\n",
       "      <td>nan</td>\n",
       "      <td>1</td>\n",
       "    </tr>\n",
       "    <tr>\n",
       "      <th>84</th>\n",
       "      <td>gdT</td>\n",
       "      <td>10h</td>\n",
       "      <td>5</td>\n",
       "    </tr>\n",
       "    <tr>\n",
       "      <th>85</th>\n",
       "      <td>gdT</td>\n",
       "      <td>nan</td>\n",
       "      <td>89</td>\n",
       "    </tr>\n",
       "    <tr>\n",
       "      <th>86</th>\n",
       "      <td>pDC</td>\n",
       "      <td>10h</td>\n",
       "      <td>0</td>\n",
       "    </tr>\n",
       "    <tr>\n",
       "      <th>87</th>\n",
       "      <td>pDC</td>\n",
       "      <td>nan</td>\n",
       "      <td>23</td>\n",
       "    </tr>\n",
       "  </tbody>\n",
       "</table>\n",
       "<p>88 rows × 3 columns</p>\n",
       "</div>"
      ],
      "text/plain": [
       "   author_cell_type time_after_LPS  counts\n",
       "0              ASDC            10h       0\n",
       "1              ASDC            nan       1\n",
       "2       B_exhausted            10h      11\n",
       "3       B_exhausted            nan       8\n",
       "4        B_immature            10h      16\n",
       "..              ...            ...     ...\n",
       "83             Treg            nan       1\n",
       "84              gdT            10h       5\n",
       "85              gdT            nan      89\n",
       "86              pDC            10h       0\n",
       "87              pDC            nan      23\n",
       "\n",
       "[88 rows x 3 columns]"
      ]
     },
     "execution_count": 7,
     "metadata": {},
     "output_type": "execute_result"
    }
   ],
   "source": [
    "combined_counts = LPSN_data.obs.groupby([celltype_col,condition_col]).size() \n",
    "combined_counts_df = combined_counts.reset_index(name='counts')\n",
    "combined_counts_df"
   ]
  },
  {
   "cell_type": "code",
   "execution_count": null,
   "metadata": {},
   "outputs": [],
   "source": [
    "# Initialize an empty list to store the results\n",
    "results = []\n",
    "\n",
    "for i in common_celltypes:\n",
    "\n",
    "    celltype_to_predict = i\n",
    "\n",
    "    # Instantiating the PerturbationAnalysis class with the loaded data\n",
    "    analysis = scGenPerturbationAnalysis(LPSN_data)\n",
    "    # Preprocessing the data\n",
    "    analysis.preprocess_data(apply_log1p = False) #normalisation mandatory, and log1p optional... maybe test both\n",
    "    analysis.prepare_training_set(condition_col, \n",
    "                                stim_key,\n",
    "                                celltype_col,\n",
    "                                celltype_to_predict)\n",
    "    # Setting up AnnData for scGen\n",
    "    analysis.setup_anndata(condition_col, \n",
    "                        celltype_col)\n",
    "    analysis.train_model(max_epochs= n_epochs, batch_size=64)\n",
    "    # Making predictions \n",
    "    analysis.make_prediction(\n",
    "                            ctrl_key,\n",
    "                            stim_key,\n",
    "                            celltype_to_predict,\n",
    "                            condition_col)\n",
    "    # Evaluating the predictions\n",
    "    analysis.evaluate_prediction(celltype_col,\n",
    "                                celltype_to_predict,\n",
    "                                condition_col,\n",
    "                                ctrl_key,\n",
    "                                stim_key)\n",
    "    # Identifying differentially expressed genes\n",
    "    analysis.identify_diff_genes(celltype_col,\n",
    "                                celltype_to_predict,\n",
    "                                condition_col,\n",
    "                                stim_key)\n",
    "    analysis.plot_mean_correlation(stim_key)\n",
    "    \n",
    "    # Get R2 value\n",
    "    r2_value = analysis.r2_value\n",
    "\n",
    "    # Computing the distance metric\n",
    "    metric = \"edistance\"\n",
    "    analysis.compute_distance_metric(n_comps,\n",
    "                                    metric,\n",
    "                                    condition_col,\n",
    "                                    stim_key,\n",
    "                                    ctrl_key)\n",
    "    # Get the perturbation score\n",
    "    e_distance = analysis.perturbation_score\n",
    "\n",
    "    metric = \"mmd\"\n",
    "    analysis.compute_distance_metric(n_comps,\n",
    "                                    metric,\n",
    "                                    condition_col,\n",
    "                                    stim_key,\n",
    "                                    ctrl_key)\n",
    "    # Get the perturbation score\n",
    "    mmd = analysis.perturbation_score #maximum mean distance\n",
    "\n",
    "    metric = \"euclidean\"\n",
    "    analysis.compute_distance_metric(n_comps,\n",
    "                                    metric,\n",
    "                                    condition_col,\n",
    "                                    stim_key,\n",
    "                                    ctrl_key)\n",
    "    # Get the perturbation score\n",
    "    euclidean = analysis.perturbation_score #maximum mean distance\n",
    "\n",
    "    results.append({\n",
    "            \"celltype_to_predict\": celltype_to_predict,\n",
    "            \"r2_value\": r2_value,\n",
    "            \"e_distance\": e_distance,\n",
    "            \"mmd\": mmd,\n",
    "            \"euclidean\": euclidean\n",
    "\n",
    "\n",
    "        })\n",
    "    "
   ]
  },
  {
   "cell_type": "code",
   "execution_count": null,
   "metadata": {},
   "outputs": [],
   "source": [
    "\n",
    "results_df = pd.DataFrame(results)\n",
    "results_df.to_csv(\"results_table_stephenson_20epochs_lateLPS.csv\", index=False)\n"
   ]
  },
  {
   "cell_type": "code",
   "execution_count": 27,
   "metadata": {},
   "outputs": [
    {
     "name": "stderr",
     "output_type": "stream",
     "text": [
      "/var/folders/13/yntv3wyn4v90z0vh3fcqrckm0000gn/T/ipykernel_52479/3627144927.py:15: FutureWarning: \n",
      "\n",
      "Passing `palette` without assigning `hue` is deprecated and will be removed in v0.14.0. Assign the `y` variable to `hue` and set `legend=False` for the same effect.\n",
      "\n",
      "  sns.barplot(\n",
      "/var/folders/13/yntv3wyn4v90z0vh3fcqrckm0000gn/T/ipykernel_52479/3627144927.py:15: FutureWarning: \n",
      "\n",
      "Passing `palette` without assigning `hue` is deprecated and will be removed in v0.14.0. Assign the `y` variable to `hue` and set `legend=False` for the same effect.\n",
      "\n",
      "  sns.barplot(\n",
      "/var/folders/13/yntv3wyn4v90z0vh3fcqrckm0000gn/T/ipykernel_52479/3627144927.py:15: FutureWarning: \n",
      "\n",
      "Passing `palette` without assigning `hue` is deprecated and will be removed in v0.14.0. Assign the `y` variable to `hue` and set `legend=False` for the same effect.\n",
      "\n",
      "  sns.barplot(\n",
      "/var/folders/13/yntv3wyn4v90z0vh3fcqrckm0000gn/T/ipykernel_52479/3627144927.py:15: FutureWarning: \n",
      "\n",
      "Passing `palette` without assigning `hue` is deprecated and will be removed in v0.14.0. Assign the `y` variable to `hue` and set `legend=False` for the same effect.\n",
      "\n",
      "  sns.barplot(\n"
     ]
    },
    {
     "data": {
      "image/png": "[encoded data removed]",
      "text/plain": [
       "<Figure size 2000x600 with 4 Axes>"
      ]
     },
     "metadata": {},
     "output_type": "display_data"
    }
   ],
   "source": [
    "#evaluate results:\n",
    "# Load the CSV file into a DataFrame\n",
    "data = pd.read_csv(\"results_table_stephenson_20epochs_lateLPS.csv\")\n",
    "\n",
    "# Set up the plotting style and dimensions\n",
    "sns.set(style=\"whitegrid\")\n",
    "fig, axes = plt.subplots(1, 4, figsize=(20, 6), sharey=True)\n",
    "\n",
    "# Define metrics and their labels for x-axis\n",
    "metrics = [\"r2_value\", \"e_distance\", \"mmd\", \"euclidean\"]\n",
    "x_labels = [\"R2 Value\", \"E Distance\", \"MMD\", \"Euclidean\"]\n",
    "\n",
    "# Create a bar plot for each metric\n",
    "for i, metric in enumerate(metrics):\n",
    "    sns.barplot(\n",
    "        y=\"celltype_to_predict\", x=metric, data=data, ax=axes[i], palette=\"viridis\"\n",
    "    )\n",
    "    axes[i].set_xlabel(x_labels[i])\n",
    "\n",
    "# Set common title and show plot\n",
    "plt.suptitle(\"Metrics by Cell Type\")\n",
    "plt.tight_layout(rect=[0, 0, 1, 0.95])\n",
    "plt.show()"
   ]
  }
 ],
 "metadata": {
  "kernelspec": {
   "display_name": "pertpy-env",
   "language": "python",
   "name": "python3"
  },
  "language_info": {
   "codemirror_mode": {
    "name": "ipython",
    "version": 3
   },
   "file_extension": ".py",
   "mimetype": "text/x-python",
   "name": "python",
   "nbconvert_exporter": "python",
   "pygments_lexer": "ipython3",
   "version": "3.10.15"
  }
 },
 "nbformat": 4,
 "nbformat_minor": 2
}
