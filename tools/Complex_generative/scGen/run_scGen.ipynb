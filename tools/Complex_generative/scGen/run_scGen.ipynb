{
 "cells": [
  {
   "cell_type": "markdown",
   "metadata": {},
   "source": [
    "# Run scGen"
   ]
  },
  {
   "cell_type": "markdown",
   "metadata": {},
   "source": [
    "add class documentation"
   ]
  },
  {
   "cell_type": "code",
   "execution_count": null,
   "metadata": {},
   "outputs": [],
   "source": [
    "# Importing necessary libraries\n",
    "import pertpy as pp\n",
    "import scanpy as sc\n",
    "import sys\n",
    "sys.path.append('./')\n",
    "from scGen_class import scGenPerturbationAnalysis"
   ]
  },
  {
   "cell_type": "code",
   "execution_count": null,
   "metadata": {},
   "outputs": [],
   "source": [
    "# Loading the dataset\n",
    "covid_data = pp.dt.stephenson_2021_subsampled()\n",
    "#covid_data = sc.read('data/stephenson_2021_subsampled.h5ad')"
   ]
  },
  {
   "cell_type": "code",
   "execution_count": null,
   "metadata": {},
   "outputs": [],
   "source": [
    "# input parameters\n",
    "condition_col= \"time_after_LPS\" #or \"disease\" in case COVID vs normal\n",
    "ctrl_key = \"nan\"\n",
    "stim_key = \"10h\"\n",
    "celltype_col = \"author_cell_type\"\n",
    "celltype_to_predict = \"B_naive\"\n",
    "n_epochs = 20"
   ]
  },
  {
   "cell_type": "code",
   "execution_count": null,
   "metadata": {},
   "outputs": [],
   "source": [
    "# filter the data set to have pairwise comparison \n",
    "LPSN_data = covid_data[((covid_data.obs[\"disease\"] == \"normal\"))]\n",
    "LPSN_data = LPSN_data[(LPSN_data.obs[condition_col].isin([ctrl_key, stim_key]))]"
   ]
  },
  {
   "cell_type": "code",
   "execution_count": null,
   "metadata": {},
   "outputs": [],
   "source": [
    "#downsample the data set\n",
    "sc.pp.subsample(LPSN_data, n_obs=3000)"
   ]
  },
  {
   "cell_type": "code",
   "execution_count": null,
   "metadata": {},
   "outputs": [],
   "source": [
    "LPSN_data.obs[celltype_col].unique()"
   ]
  },
  {
   "cell_type": "code",
   "execution_count": null,
   "metadata": {},
   "outputs": [],
   "source": [
    "# Initialize an empty list to store the results\n",
    "results = []\n",
    "\n",
    "for i in LPSN_data.obs[celltype_col].unique():\n",
    "\n",
    "    celltype_to_predict = i\n",
    "\n",
    "    # Instantiating the PerturbationAnalysis class with the loaded data\n",
    "    analysis = scGenPerturbationAnalysis(LPSN_data)\n",
    "    # Preprocessing the data\n",
    "    analysis.preprocess_data() #just normalisation\n",
    "    analysis.prepare_training_set(condition_col, \n",
    "                                stim_key,\n",
    "                                celltype_col,\n",
    "                                celltype_to_predict)\n",
    "    # Setting up AnnData for scGen\n",
    "    analysis.setup_anndata(condition_col, \n",
    "                        celltype_col)\n",
    "    analysis.train_model(max_epochs= n_epochs, batch_size=64)\n",
    "    # Making predictions \n",
    "    analysis.make_prediction(\n",
    "                            ctrl_key,\n",
    "                            stim_key,\n",
    "                            celltype_to_predict,\n",
    "                            condition_col)\n",
    "    # Evaluating the predictions\n",
    "    analysis.evaluate_prediction(celltype_col,\n",
    "                                celltype_to_predict,\n",
    "                                condition_col,\n",
    "                                ctrl_key,\n",
    "                                stim_key)\n",
    "    # Identifying differentially expressed genes\n",
    "    analysis.identify_diff_genes(celltype_col,\n",
    "                                celltype_to_predict,\n",
    "                                condition_col,\n",
    "                                stim_key)\n",
    "    analysis.plot_mean_correlation(stim_key)\n",
    "    \n",
    "    # Get R2 value\n",
    "    r2_value = analysis.r2_value\n",
    "\n",
    "    # Computing the distance metric\n",
    "    metric = \"edistance\"\n",
    "    n_comps = 50\n",
    "    analysis.compute_distance_metric(n_comps,\n",
    "                                    metric,\n",
    "                                    condition_col,\n",
    "                                    stim_key,\n",
    "                                    ctrl_key)\n",
    "    # Get the perturbation score\n",
    "    e_distance = analysis.perturbation_score\n",
    "\n",
    "    metric = \"mmd\"\n",
    "    n_comps = 50\n",
    "    analysis.compute_distance_metric(n_comps,\n",
    "                                    metric,\n",
    "                                    condition_col,\n",
    "                                    stim_key,\n",
    "                                    ctrl_key)\n",
    "    # Get the perturbation score\n",
    "    mmd = analysis.perturbation_score #maximum mean distance\n",
    "\n",
    "    metric = \"euclidean\"\n",
    "    n_comps = 50\n",
    "    analysis.compute_distance_metric(n_comps,\n",
    "                                    metric,\n",
    "                                    condition_col,\n",
    "                                    stim_key,\n",
    "                                    ctrl_key)\n",
    "    # Get the perturbation score\n",
    "    euclidean = analysis.perturbation_score #maximum mean distance\n",
    "\n",
    "    results.append({\n",
    "            \"celltype_to_predict\": celltype_to_predict,\n",
    "            \"r2_value\": r2_value,\n",
    "            \"e_distance\": e_distance,\n",
    "            \"mmd\": mmd,\n",
    "            \"euclidean\": euclidean\n",
    "\n",
    "\n",
    "        })\n",
    "    \n",
    "    results"
   ]
  },
  {
   "cell_type": "code",
   "execution_count": null,
   "metadata": {},
   "outputs": [],
   "source": []
  }
 ],
 "metadata": {
  "kernelspec": {
   "display_name": "pertpy-env",
   "language": "python",
   "name": "python3"
  },
  "language_info": {
   "codemirror_mode": {
    "name": "ipython",
    "version": 3
   },
   "file_extension": ".py",
   "mimetype": "text/x-python",
   "name": "python",
   "nbconvert_exporter": "python",
   "pygments_lexer": "ipython3",
   "version": "3.10.15"
  }
 },
 "nbformat": 4,
 "nbformat_minor": 2
}
